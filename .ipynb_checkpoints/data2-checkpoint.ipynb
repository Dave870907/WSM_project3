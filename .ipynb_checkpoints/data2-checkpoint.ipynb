{
 "cells": [
  {
   "cell_type": "code",
   "execution_count": 4,
   "metadata": {
    "colab": {
     "base_uri": "https://localhost:8080/",
     "height": 413
    },
    "id": "30jNNSIMm70j",
    "outputId": "97491aaf-7185-435f-a17b-1ecb5d7ae398"
   },
   "outputs": [
    {
     "ename": "FileNotFoundError",
     "evalue": "ignored",
     "output_type": "error",
     "traceback": [
      "\u001b[0;31m---------------------------------------------------------------------------\u001b[0m",
      "\u001b[0;31mFileNotFoundError\u001b[0m                         Traceback (most recent call last)",
      "\u001b[0;32m<ipython-input-4-4f82546b0698>\u001b[0m in \u001b[0;36m<module>\u001b[0;34m()\u001b[0m\n\u001b[1;32m      1\u001b[0m \u001b[0;32mimport\u001b[0m \u001b[0mpandas\u001b[0m \u001b[0;32mas\u001b[0m \u001b[0mpd\u001b[0m\u001b[0;34m\u001b[0m\u001b[0;34m\u001b[0m\u001b[0m\n\u001b[0;32m----> 2\u001b[0;31m \u001b[0mdata\u001b[0m \u001b[0;34m=\u001b[0m \u001b[0mpd\u001b[0m\u001b[0;34m.\u001b[0m\u001b[0mread_csv\u001b[0m \u001b[0;34m(\u001b[0m\u001b[0;34m\"MINDlarge_test/behaviors.tsv\"\u001b[0m\u001b[0;34m,\u001b[0m \u001b[0msep\u001b[0m \u001b[0;34m=\u001b[0m \u001b[0;34m'\\t'\u001b[0m\u001b[0;34m,\u001b[0m \u001b[0mnames\u001b[0m\u001b[0;34m=\u001b[0m\u001b[0;34m[\u001b[0m\u001b[0;34m'Impression ID'\u001b[0m\u001b[0;34m,\u001b[0m\u001b[0;34m'User ID'\u001b[0m\u001b[0;34m,\u001b[0m\u001b[0;34m'Time'\u001b[0m\u001b[0;34m,\u001b[0m\u001b[0;34m'History'\u001b[0m\u001b[0;34m,\u001b[0m\u001b[0;34m'Impressions'\u001b[0m\u001b[0;34m]\u001b[0m\u001b[0;34m)\u001b[0m\u001b[0;34m\u001b[0m\u001b[0;34m\u001b[0m\u001b[0m\n\u001b[0m",
      "\u001b[0;32m/usr/local/lib/python3.7/dist-packages/pandas/io/parsers.py\u001b[0m in \u001b[0;36mread_csv\u001b[0;34m(filepath_or_buffer, sep, delimiter, header, names, index_col, usecols, squeeze, prefix, mangle_dupe_cols, dtype, engine, converters, true_values, false_values, skipinitialspace, skiprows, skipfooter, nrows, na_values, keep_default_na, na_filter, verbose, skip_blank_lines, parse_dates, infer_datetime_format, keep_date_col, date_parser, dayfirst, cache_dates, iterator, chunksize, compression, thousands, decimal, lineterminator, quotechar, quoting, doublequote, escapechar, comment, encoding, dialect, error_bad_lines, warn_bad_lines, delim_whitespace, low_memory, memory_map, float_precision)\u001b[0m\n\u001b[1;32m    686\u001b[0m     )\n\u001b[1;32m    687\u001b[0m \u001b[0;34m\u001b[0m\u001b[0m\n\u001b[0;32m--> 688\u001b[0;31m     \u001b[0;32mreturn\u001b[0m \u001b[0m_read\u001b[0m\u001b[0;34m(\u001b[0m\u001b[0mfilepath_or_buffer\u001b[0m\u001b[0;34m,\u001b[0m \u001b[0mkwds\u001b[0m\u001b[0;34m)\u001b[0m\u001b[0;34m\u001b[0m\u001b[0;34m\u001b[0m\u001b[0m\n\u001b[0m\u001b[1;32m    689\u001b[0m \u001b[0;34m\u001b[0m\u001b[0m\n\u001b[1;32m    690\u001b[0m \u001b[0;34m\u001b[0m\u001b[0m\n",
      "\u001b[0;32m/usr/local/lib/python3.7/dist-packages/pandas/io/parsers.py\u001b[0m in \u001b[0;36m_read\u001b[0;34m(filepath_or_buffer, kwds)\u001b[0m\n\u001b[1;32m    452\u001b[0m \u001b[0;34m\u001b[0m\u001b[0m\n\u001b[1;32m    453\u001b[0m     \u001b[0;31m# Create the parser.\u001b[0m\u001b[0;34m\u001b[0m\u001b[0;34m\u001b[0m\u001b[0;34m\u001b[0m\u001b[0m\n\u001b[0;32m--> 454\u001b[0;31m     \u001b[0mparser\u001b[0m \u001b[0;34m=\u001b[0m \u001b[0mTextFileReader\u001b[0m\u001b[0;34m(\u001b[0m\u001b[0mfp_or_buf\u001b[0m\u001b[0;34m,\u001b[0m \u001b[0;34m**\u001b[0m\u001b[0mkwds\u001b[0m\u001b[0;34m)\u001b[0m\u001b[0;34m\u001b[0m\u001b[0;34m\u001b[0m\u001b[0m\n\u001b[0m\u001b[1;32m    455\u001b[0m \u001b[0;34m\u001b[0m\u001b[0m\n\u001b[1;32m    456\u001b[0m     \u001b[0;32mif\u001b[0m \u001b[0mchunksize\u001b[0m \u001b[0;32mor\u001b[0m \u001b[0miterator\u001b[0m\u001b[0;34m:\u001b[0m\u001b[0;34m\u001b[0m\u001b[0;34m\u001b[0m\u001b[0m\n",
      "\u001b[0;32m/usr/local/lib/python3.7/dist-packages/pandas/io/parsers.py\u001b[0m in \u001b[0;36m__init__\u001b[0;34m(self, f, engine, **kwds)\u001b[0m\n\u001b[1;32m    946\u001b[0m             \u001b[0mself\u001b[0m\u001b[0;34m.\u001b[0m\u001b[0moptions\u001b[0m\u001b[0;34m[\u001b[0m\u001b[0;34m\"has_index_names\"\u001b[0m\u001b[0;34m]\u001b[0m \u001b[0;34m=\u001b[0m \u001b[0mkwds\u001b[0m\u001b[0;34m[\u001b[0m\u001b[0;34m\"has_index_names\"\u001b[0m\u001b[0;34m]\u001b[0m\u001b[0;34m\u001b[0m\u001b[0;34m\u001b[0m\u001b[0m\n\u001b[1;32m    947\u001b[0m \u001b[0;34m\u001b[0m\u001b[0m\n\u001b[0;32m--> 948\u001b[0;31m         \u001b[0mself\u001b[0m\u001b[0;34m.\u001b[0m\u001b[0m_make_engine\u001b[0m\u001b[0;34m(\u001b[0m\u001b[0mself\u001b[0m\u001b[0;34m.\u001b[0m\u001b[0mengine\u001b[0m\u001b[0;34m)\u001b[0m\u001b[0;34m\u001b[0m\u001b[0;34m\u001b[0m\u001b[0m\n\u001b[0m\u001b[1;32m    949\u001b[0m \u001b[0;34m\u001b[0m\u001b[0m\n\u001b[1;32m    950\u001b[0m     \u001b[0;32mdef\u001b[0m \u001b[0mclose\u001b[0m\u001b[0;34m(\u001b[0m\u001b[0mself\u001b[0m\u001b[0;34m)\u001b[0m\u001b[0;34m:\u001b[0m\u001b[0;34m\u001b[0m\u001b[0;34m\u001b[0m\u001b[0m\n",
      "\u001b[0;32m/usr/local/lib/python3.7/dist-packages/pandas/io/parsers.py\u001b[0m in \u001b[0;36m_make_engine\u001b[0;34m(self, engine)\u001b[0m\n\u001b[1;32m   1178\u001b[0m     \u001b[0;32mdef\u001b[0m \u001b[0m_make_engine\u001b[0m\u001b[0;34m(\u001b[0m\u001b[0mself\u001b[0m\u001b[0;34m,\u001b[0m \u001b[0mengine\u001b[0m\u001b[0;34m=\u001b[0m\u001b[0;34m\"c\"\u001b[0m\u001b[0;34m)\u001b[0m\u001b[0;34m:\u001b[0m\u001b[0;34m\u001b[0m\u001b[0;34m\u001b[0m\u001b[0m\n\u001b[1;32m   1179\u001b[0m         \u001b[0;32mif\u001b[0m \u001b[0mengine\u001b[0m \u001b[0;34m==\u001b[0m \u001b[0;34m\"c\"\u001b[0m\u001b[0;34m:\u001b[0m\u001b[0;34m\u001b[0m\u001b[0;34m\u001b[0m\u001b[0m\n\u001b[0;32m-> 1180\u001b[0;31m             \u001b[0mself\u001b[0m\u001b[0;34m.\u001b[0m\u001b[0m_engine\u001b[0m \u001b[0;34m=\u001b[0m \u001b[0mCParserWrapper\u001b[0m\u001b[0;34m(\u001b[0m\u001b[0mself\u001b[0m\u001b[0;34m.\u001b[0m\u001b[0mf\u001b[0m\u001b[0;34m,\u001b[0m \u001b[0;34m**\u001b[0m\u001b[0mself\u001b[0m\u001b[0;34m.\u001b[0m\u001b[0moptions\u001b[0m\u001b[0;34m)\u001b[0m\u001b[0;34m\u001b[0m\u001b[0;34m\u001b[0m\u001b[0m\n\u001b[0m\u001b[1;32m   1181\u001b[0m         \u001b[0;32melse\u001b[0m\u001b[0;34m:\u001b[0m\u001b[0;34m\u001b[0m\u001b[0;34m\u001b[0m\u001b[0m\n\u001b[1;32m   1182\u001b[0m             \u001b[0;32mif\u001b[0m \u001b[0mengine\u001b[0m \u001b[0;34m==\u001b[0m \u001b[0;34m\"python\"\u001b[0m\u001b[0;34m:\u001b[0m\u001b[0;34m\u001b[0m\u001b[0;34m\u001b[0m\u001b[0m\n",
      "\u001b[0;32m/usr/local/lib/python3.7/dist-packages/pandas/io/parsers.py\u001b[0m in \u001b[0;36m__init__\u001b[0;34m(self, src, **kwds)\u001b[0m\n\u001b[1;32m   2008\u001b[0m         \u001b[0mkwds\u001b[0m\u001b[0;34m[\u001b[0m\u001b[0;34m\"usecols\"\u001b[0m\u001b[0;34m]\u001b[0m \u001b[0;34m=\u001b[0m \u001b[0mself\u001b[0m\u001b[0;34m.\u001b[0m\u001b[0musecols\u001b[0m\u001b[0;34m\u001b[0m\u001b[0;34m\u001b[0m\u001b[0m\n\u001b[1;32m   2009\u001b[0m \u001b[0;34m\u001b[0m\u001b[0m\n\u001b[0;32m-> 2010\u001b[0;31m         \u001b[0mself\u001b[0m\u001b[0;34m.\u001b[0m\u001b[0m_reader\u001b[0m \u001b[0;34m=\u001b[0m \u001b[0mparsers\u001b[0m\u001b[0;34m.\u001b[0m\u001b[0mTextReader\u001b[0m\u001b[0;34m(\u001b[0m\u001b[0msrc\u001b[0m\u001b[0;34m,\u001b[0m \u001b[0;34m**\u001b[0m\u001b[0mkwds\u001b[0m\u001b[0;34m)\u001b[0m\u001b[0;34m\u001b[0m\u001b[0;34m\u001b[0m\u001b[0m\n\u001b[0m\u001b[1;32m   2011\u001b[0m         \u001b[0mself\u001b[0m\u001b[0;34m.\u001b[0m\u001b[0munnamed_cols\u001b[0m \u001b[0;34m=\u001b[0m \u001b[0mself\u001b[0m\u001b[0;34m.\u001b[0m\u001b[0m_reader\u001b[0m\u001b[0;34m.\u001b[0m\u001b[0munnamed_cols\u001b[0m\u001b[0;34m\u001b[0m\u001b[0;34m\u001b[0m\u001b[0m\n\u001b[1;32m   2012\u001b[0m \u001b[0;34m\u001b[0m\u001b[0m\n",
      "\u001b[0;32mpandas/_libs/parsers.pyx\u001b[0m in \u001b[0;36mpandas._libs.parsers.TextReader.__cinit__\u001b[0;34m()\u001b[0m\n",
      "\u001b[0;32mpandas/_libs/parsers.pyx\u001b[0m in \u001b[0;36mpandas._libs.parsers.TextReader._setup_parser_source\u001b[0;34m()\u001b[0m\n",
      "\u001b[0;31mFileNotFoundError\u001b[0m: [Errno 2] No such file or directory: 'MINDlarge_test/behaviors.tsv'"
     ]
    }
   ],
   "source": [
    "import pandas as pd\n",
    "data = pd.read_csv (\"MINDlarge_test/behaviors.tsv\", sep = '\\t', names=['Impression ID','User ID','Time','History','Impressions'])"
   ]
  },
  {
   "cell_type": "code",
   "execution_count": 5,
   "metadata": {
    "id": "UIuEdSZ7m70k",
    "scrolled": true
   },
   "outputs": [],
   "source": [
    "import numpy as np \n",
    "import pandas as pd\n",
    "from tqdm import tqdm"
   ]
  },
  {
   "cell_type": "code",
   "execution_count": null,
   "metadata": {
    "id": "AgtYTX0gm70k",
    "outputId": "c8442e9f-1234-451a-b74e-6c8397dab9f4"
   },
   "outputs": [
    {
     "name": "stdout",
     "output_type": "stream",
     "text": [
      "Requirement already satisfied: tqdm in /Library/Frameworks/Python.framework/Versions/3.8/lib/python3.8/site-packages (4.59.0)\n",
      "\u001b[33mWARNING: You are using pip version 21.1.1; however, version 21.1.2 is available.\n",
      "You should consider upgrading via the '/Library/Frameworks/Python.framework/Versions/3.8/bin/python3.8 -m pip install --upgrade pip' command.\u001b[0m\n"
     ]
    }
   ],
   "source": [
    "!pip3 install tqdm\n"
   ]
  },
  {
   "cell_type": "code",
   "execution_count": null,
   "metadata": {
    "id": "xpLOe6lfm70l",
    "outputId": "130d1573-75f9-43cd-8b31-5cb15e0847f4"
   },
   "outputs": [
    {
     "data": {
      "text/html": [
       "<div>\n",
       "<style scoped>\n",
       "    .dataframe tbody tr th:only-of-type {\n",
       "        vertical-align: middle;\n",
       "    }\n",
       "\n",
       "    .dataframe tbody tr th {\n",
       "        vertical-align: top;\n",
       "    }\n",
       "\n",
       "    .dataframe thead th {\n",
       "        text-align: right;\n",
       "    }\n",
       "</style>\n",
       "<table border=\"1\" class=\"dataframe\">\n",
       "  <thead>\n",
       "    <tr style=\"text-align: right;\">\n",
       "      <th></th>\n",
       "      <th>User ID</th>\n",
       "      <th>Time</th>\n",
       "      <th>History</th>\n",
       "      <th>Impressions</th>\n",
       "    </tr>\n",
       "    <tr>\n",
       "      <th>Impression ID</th>\n",
       "      <th></th>\n",
       "      <th></th>\n",
       "      <th></th>\n",
       "      <th></th>\n",
       "    </tr>\n",
       "  </thead>\n",
       "  <tbody>\n",
       "    <tr>\n",
       "      <th>1</th>\n",
       "      <td>U64099</td>\n",
       "      <td>11/19/2019 11:37:45 AM</td>\n",
       "      <td>N121133 N104200 N43255 N55860 N128965 N38014 N...</td>\n",
       "      <td>N101071 N15647 N83400 N124838 N57092 N64623 N6...</td>\n",
       "    </tr>\n",
       "    <tr>\n",
       "      <th>2</th>\n",
       "      <td>U231077</td>\n",
       "      <td>11/19/2019 5:28:08 AM</td>\n",
       "      <td>N45124 N84730 N45128 N104312 N70022 N99111 N26...</td>\n",
       "      <td>N14657 N51253 N49521 N126571 N74286 N101071 N1...</td>\n",
       "    </tr>\n",
       "    <tr>\n",
       "      <th>3</th>\n",
       "      <td>U606012</td>\n",
       "      <td>11/19/2019 4:46:23 AM</td>\n",
       "      <td>N59893 N84662 N90686 N33265 N127225 N120859 N6...</td>\n",
       "      <td>N74286 N9250 N26898 N123737 N98301 N80580 N456...</td>\n",
       "    </tr>\n",
       "    <tr>\n",
       "      <th>4</th>\n",
       "      <td>U320649</td>\n",
       "      <td>11/21/2019 6:03:51 AM</td>\n",
       "      <td>N110863 N7889 N86335 N85056 N115743 N63372 N19...</td>\n",
       "      <td>N119559 N37657 N108085 N91287 N39136 N130190 N...</td>\n",
       "    </tr>\n",
       "    <tr>\n",
       "      <th>5</th>\n",
       "      <td>U357840</td>\n",
       "      <td>11/22/2019 10:36:19 AM</td>\n",
       "      <td>N98596 N85005 N15713 N67779 N47961 N55571 N666...</td>\n",
       "      <td>N60658 N43496 N65220 N9125 N63136 N83728 N3208...</td>\n",
       "    </tr>\n",
       "  </tbody>\n",
       "</table>\n",
       "</div>"
      ],
      "text/plain": [
       "               User ID                    Time  \\\n",
       "Impression ID                                    \n",
       "1               U64099  11/19/2019 11:37:45 AM   \n",
       "2              U231077   11/19/2019 5:28:08 AM   \n",
       "3              U606012   11/19/2019 4:46:23 AM   \n",
       "4              U320649   11/21/2019 6:03:51 AM   \n",
       "5              U357840  11/22/2019 10:36:19 AM   \n",
       "\n",
       "                                                         History  \\\n",
       "Impression ID                                                      \n",
       "1              N121133 N104200 N43255 N55860 N128965 N38014 N...   \n",
       "2              N45124 N84730 N45128 N104312 N70022 N99111 N26...   \n",
       "3              N59893 N84662 N90686 N33265 N127225 N120859 N6...   \n",
       "4              N110863 N7889 N86335 N85056 N115743 N63372 N19...   \n",
       "5              N98596 N85005 N15713 N67779 N47961 N55571 N666...   \n",
       "\n",
       "                                                     Impressions  \n",
       "Impression ID                                                     \n",
       "1              N101071 N15647 N83400 N124838 N57092 N64623 N6...  \n",
       "2              N14657 N51253 N49521 N126571 N74286 N101071 N1...  \n",
       "3              N74286 N9250 N26898 N123737 N98301 N80580 N456...  \n",
       "4              N119559 N37657 N108085 N91287 N39136 N130190 N...  \n",
       "5              N60658 N43496 N65220 N9125 N63136 N83728 N3208...  "
      ]
     },
     "execution_count": 4,
     "metadata": {
      "tags": []
     },
     "output_type": "execute_result"
    }
   ],
   "source": [
    "data = data.set_index('Impression ID')\n",
    "data.head()"
   ]
  },
  {
   "cell_type": "code",
   "execution_count": null,
   "metadata": {
    "id": "tcS7WX7im70m"
   },
   "outputs": [],
   "source": [
    "df = data.loc[:, [\"User ID\",\"History\",\"Impressions\"]]\n"
   ]
  },
  {
   "cell_type": "code",
   "execution_count": null,
   "metadata": {
    "id": "dH7fFaDpm70m",
    "outputId": "3fe19cf9-98b6-41b6-90fb-ab19d8fb7670"
   },
   "outputs": [
    {
     "data": {
      "text/plain": [
       "16"
      ]
     },
     "execution_count": 6,
     "metadata": {
      "tags": []
     },
     "output_type": "execute_result"
    }
   ],
   "source": [
    "len(df.at[1,\"Impressions\"].split())\n"
   ]
  },
  {
   "cell_type": "code",
   "execution_count": null,
   "metadata": {
    "id": "g8f9QEUgm70n",
    "outputId": "dd2dd27b-1562-4c23-80f8-54b5c7b0d118"
   },
   "outputs": [
    {
     "data": {
      "text/html": [
       "<div>\n",
       "<style scoped>\n",
       "    .dataframe tbody tr th:only-of-type {\n",
       "        vertical-align: middle;\n",
       "    }\n",
       "\n",
       "    .dataframe tbody tr th {\n",
       "        vertical-align: top;\n",
       "    }\n",
       "\n",
       "    .dataframe thead th {\n",
       "        text-align: right;\n",
       "    }\n",
       "</style>\n",
       "<table border=\"1\" class=\"dataframe\">\n",
       "  <thead>\n",
       "    <tr style=\"text-align: right;\">\n",
       "      <th></th>\n",
       "      <th>User ID</th>\n",
       "      <th>History</th>\n",
       "      <th>Impressions</th>\n",
       "    </tr>\n",
       "    <tr>\n",
       "      <th>Impression ID</th>\n",
       "      <th></th>\n",
       "      <th></th>\n",
       "      <th></th>\n",
       "    </tr>\n",
       "  </thead>\n",
       "  <tbody>\n",
       "    <tr>\n",
       "      <th>1</th>\n",
       "      <td>U64099</td>\n",
       "      <td>N121133 N104200 N43255 N55860 N128965 N38014 N...</td>\n",
       "      <td>N101071 N15647 N83400 N124838 N57092 N64623 N6...</td>\n",
       "    </tr>\n",
       "    <tr>\n",
       "      <th>2</th>\n",
       "      <td>U231077</td>\n",
       "      <td>N45124 N84730 N45128 N104312 N70022 N99111 N26...</td>\n",
       "      <td>N14657 N51253 N49521 N126571 N74286 N101071 N1...</td>\n",
       "    </tr>\n",
       "    <tr>\n",
       "      <th>3</th>\n",
       "      <td>U606012</td>\n",
       "      <td>N59893 N84662 N90686 N33265 N127225 N120859 N6...</td>\n",
       "      <td>N74286 N9250 N26898 N123737 N98301 N80580 N456...</td>\n",
       "    </tr>\n",
       "    <tr>\n",
       "      <th>4</th>\n",
       "      <td>U320649</td>\n",
       "      <td>N110863 N7889 N86335 N85056 N115743 N63372 N19...</td>\n",
       "      <td>N119559 N37657 N108085 N91287 N39136 N130190 N...</td>\n",
       "    </tr>\n",
       "    <tr>\n",
       "      <th>5</th>\n",
       "      <td>U357840</td>\n",
       "      <td>N98596 N85005 N15713 N67779 N47961 N55571 N666...</td>\n",
       "      <td>N60658 N43496 N65220 N9125 N63136 N83728 N3208...</td>\n",
       "    </tr>\n",
       "    <tr>\n",
       "      <th>...</th>\n",
       "      <td>...</td>\n",
       "      <td>...</td>\n",
       "      <td>...</td>\n",
       "    </tr>\n",
       "    <tr>\n",
       "      <th>2370723</th>\n",
       "      <td>U584874</td>\n",
       "      <td>N72571 N14240 N26193 N82055 N23920 N41710</td>\n",
       "      <td>N63756 N40488 N1912 N119559 N56012 N91287 N6629</td>\n",
       "    </tr>\n",
       "    <tr>\n",
       "      <th>2370724</th>\n",
       "      <td>U584857</td>\n",
       "      <td>N57191 N54360 N1596 N61590 N104737 N71977 N773...</td>\n",
       "      <td>N13424 N81398 N45995 N53301 N80156 N65220 N913...</td>\n",
       "    </tr>\n",
       "    <tr>\n",
       "      <th>2370725</th>\n",
       "      <td>U160629</td>\n",
       "      <td>N105366 N51167 N66294 N71092 N92463 N38171 N11...</td>\n",
       "      <td>N96391 N56557 N76934 N130 N114959</td>\n",
       "    </tr>\n",
       "    <tr>\n",
       "      <th>2370726</th>\n",
       "      <td>U406290</td>\n",
       "      <td>N55903 N85484 N12015 N121551 N65119 N15471 N11...</td>\n",
       "      <td>N100633 N93461 N18760 N122566 N65522 N68985 N6...</td>\n",
       "    </tr>\n",
       "    <tr>\n",
       "      <th>2370727</th>\n",
       "      <td>U268599</td>\n",
       "      <td>N9740 N65259 N112324 N29153 N59111 N54723 N343...</td>\n",
       "      <td>N77696 N8159 N68290 N87227 N32131 N26374 N3132...</td>\n",
       "    </tr>\n",
       "  </tbody>\n",
       "</table>\n",
       "<p>2370727 rows × 3 columns</p>\n",
       "</div>"
      ],
      "text/plain": [
       "               User ID                                            History  \\\n",
       "Impression ID                                                               \n",
       "1               U64099  N121133 N104200 N43255 N55860 N128965 N38014 N...   \n",
       "2              U231077  N45124 N84730 N45128 N104312 N70022 N99111 N26...   \n",
       "3              U606012  N59893 N84662 N90686 N33265 N127225 N120859 N6...   \n",
       "4              U320649  N110863 N7889 N86335 N85056 N115743 N63372 N19...   \n",
       "5              U357840  N98596 N85005 N15713 N67779 N47961 N55571 N666...   \n",
       "...                ...                                                ...   \n",
       "2370723        U584874          N72571 N14240 N26193 N82055 N23920 N41710   \n",
       "2370724        U584857  N57191 N54360 N1596 N61590 N104737 N71977 N773...   \n",
       "2370725        U160629  N105366 N51167 N66294 N71092 N92463 N38171 N11...   \n",
       "2370726        U406290  N55903 N85484 N12015 N121551 N65119 N15471 N11...   \n",
       "2370727        U268599  N9740 N65259 N112324 N29153 N59111 N54723 N343...   \n",
       "\n",
       "                                                     Impressions  \n",
       "Impression ID                                                     \n",
       "1              N101071 N15647 N83400 N124838 N57092 N64623 N6...  \n",
       "2              N14657 N51253 N49521 N126571 N74286 N101071 N1...  \n",
       "3              N74286 N9250 N26898 N123737 N98301 N80580 N456...  \n",
       "4              N119559 N37657 N108085 N91287 N39136 N130190 N...  \n",
       "5              N60658 N43496 N65220 N9125 N63136 N83728 N3208...  \n",
       "...                                                          ...  \n",
       "2370723          N63756 N40488 N1912 N119559 N56012 N91287 N6629  \n",
       "2370724        N13424 N81398 N45995 N53301 N80156 N65220 N913...  \n",
       "2370725                        N96391 N56557 N76934 N130 N114959  \n",
       "2370726        N100633 N93461 N18760 N122566 N65522 N68985 N6...  \n",
       "2370727        N77696 N8159 N68290 N87227 N32131 N26374 N3132...  \n",
       "\n",
       "[2370727 rows x 3 columns]"
      ]
     },
     "execution_count": 7,
     "metadata": {
      "tags": []
     },
     "output_type": "execute_result"
    }
   ],
   "source": [
    "df"
   ]
  },
  {
   "cell_type": "code",
   "execution_count": null,
   "metadata": {
    "id": "Eik2yWRNm70n"
   },
   "outputs": [],
   "source": [
    "# with open('sub.txt', 'w') as f:\n",
    "#     for index, row in df.iterrows():\n",
    "#         num = len(row[1].split(' '))\n",
    "#         l = [i for i in range(1, num+1)]\n",
    "#         a = '[{0}]'.format(','.join(map(str, l)))\n",
    "#         w = f\"{index} {a}\"\n",
    "#         f.write(w)\n",
    "#         f.write('\\n')"
   ]
  },
  {
   "cell_type": "code",
   "execution_count": null,
   "metadata": {
    "id": "YR7x0vyOm70o"
   },
   "outputs": [],
   "source": [
    "# import re\n",
    "# a = [1,2,3,4]\n",
    "\n",
    "# print('[{0}]'.format(','.join(map(str, a))))  "
   ]
  },
  {
   "cell_type": "code",
   "execution_count": null,
   "metadata": {
    "id": "cpDvbBIcm70o",
    "scrolled": true
   },
   "outputs": [],
   "source": [
    "with open('test.txt', 'w') as f:\n",
    "    for i in df.index:\n",
    "\n",
    "        for j in str(df[\"History\"][i]).split():\n",
    "\n",
    "            w = str(df[\"User ID\"][i])+\" \"+str(j)+\" \"+str(1)\n",
    "            f.write(w)\n",
    "            f.write('\\n')\n",
    "# smore input檔\n",
    "    "
   ]
  },
  {
   "cell_type": "code",
   "execution_count": null,
   "metadata": {
    "id": "bGoI_Sw4m70p",
    "outputId": "5ff57502-00a5-4f00-9140-12060c511a7c"
   },
   "outputs": [
    {
     "name": "stdout",
     "output_type": "stream",
     "text": [
      "['Hello,', 'World!', 'I', 'am', 'here.']\n"
     ]
    }
   ],
   "source": [
    "# 啊怎麼沒print半個東西出來啦！\n",
    "# 明早run上面那格\n",
    "\n",
    "# 我今天丟了前十萬個人的資料進去，明天試試算出這些人的成績"
   ]
  },
  {
   "cell_type": "code",
   "execution_count": null,
   "metadata": {
    "id": "aUaMwmUbm70p"
   },
   "outputs": [],
   "source": [
    "with open('test.txt', 'w') as f:\n",
    "    count = 0\n",
    "    for i in df.index:\n",
    "        count+=1\n",
    "        for j in str(df[\"History\"][i]).split():\n",
    "\n",
    "            w = str(df[\"User ID\"][i])+\" \"+str(j)+\" \"+str(1)\n",
    "            f.write(w)\n",
    "            f.write('\\n')\n",
    "        if count == 100000:\n",
    "            break\n",
    "# 小的smore input檔"
   ]
  },
  {
   "cell_type": "code",
   "execution_count": 3,
   "metadata": {
    "colab": {
     "base_uri": "https://localhost:8080/"
    },
    "id": "BZ5r0dV0qMW-",
    "outputId": "e008dd10-98ea-4a99-b867-aa09d390a7ab"
   },
   "outputs": [
    {
     "name": "stdout",
     "output_type": "stream",
     "text": [
      "Mounted at /content/drive\n"
     ]
    }
   ],
   "source": [
    "from google.colab import drive\n",
    "drive.mount('/content/drive')"
   ]
  },
  {
   "cell_type": "code",
   "execution_count": 6,
   "metadata": {
    "colab": {
     "base_uri": "https://localhost:8080/",
     "height": 430
    },
    "id": "f99mkDZum70p",
    "outputId": "9a3de8aa-7c12-4c10-92d6-56885fe2a929"
   },
   "outputs": [
    {
     "name": "stderr",
     "output_type": "stream",
     "text": [
      " 68%|██████▊   | 542824/797646 [1:43:10<1:39:03, 42.88it/s]"
     ]
    },
    {
     "ename": "KeyboardInterrupt",
     "evalue": "ignored",
     "output_type": "error",
     "traceback": [
      "\u001b[0;31m---------------------------------------------------------------------------\u001b[0m",
      "\u001b[0;31mKeyboardInterrupt\u001b[0m                         Traceback (most recent call last)",
      "\u001b[0;32m<ipython-input-6-cabb27f0cbcf>\u001b[0m in \u001b[0;36m<module>\u001b[0;34m()\u001b[0m\n\u001b[1;32m      7\u001b[0m             \u001b[0mvectors\u001b[0m\u001b[0;34m[\u001b[0m\u001b[0;34m:\u001b[0m\u001b[0;34m]\u001b[0m \u001b[0;34m=\u001b[0m \u001b[0;34m[\u001b[0m\u001b[0mfloat\u001b[0m\u001b[0;34m(\u001b[0m\u001b[0mx\u001b[0m\u001b[0;34m)\u001b[0m \u001b[0;32mfor\u001b[0m \u001b[0mx\u001b[0m \u001b[0;32min\u001b[0m \u001b[0mvectors\u001b[0m\u001b[0;34m]\u001b[0m\u001b[0;34m\u001b[0m\u001b[0;34m\u001b[0m\u001b[0m\n\u001b[1;32m      8\u001b[0m \u001b[0;34m\u001b[0m\u001b[0m\n\u001b[0;32m----> 9\u001b[0;31m             \u001b[0mdf2\u001b[0m \u001b[0;34m=\u001b[0m \u001b[0mdf2\u001b[0m\u001b[0;34m.\u001b[0m\u001b[0mappend\u001b[0m\u001b[0;34m(\u001b[0m\u001b[0;34m{\u001b[0m\u001b[0;34m\"Items\"\u001b[0m\u001b[0;34m:\u001b[0m\u001b[0ma\u001b[0m\u001b[0;34m[\u001b[0m\u001b[0;36m0\u001b[0m\u001b[0;34m]\u001b[0m\u001b[0;34m,\u001b[0m \u001b[0;34m\"vector\"\u001b[0m\u001b[0;34m:\u001b[0m\u001b[0mvectors\u001b[0m\u001b[0;34m}\u001b[0m\u001b[0;34m,\u001b[0m\u001b[0mignore_index\u001b[0m\u001b[0;34m=\u001b[0m\u001b[0;32mTrue\u001b[0m\u001b[0;34m)\u001b[0m\u001b[0;34m\u001b[0m\u001b[0;34m\u001b[0m\u001b[0m\n\u001b[0m\u001b[1;32m     10\u001b[0m \u001b[0;31m#             print(vector)\u001b[0m\u001b[0;34m\u001b[0m\u001b[0;34m\u001b[0m\u001b[0;34m\u001b[0m\u001b[0m\n\u001b[1;32m     11\u001b[0m \u001b[0;34m\u001b[0m\u001b[0m\n",
      "\u001b[0;32m/usr/local/lib/python3.7/dist-packages/pandas/core/frame.py\u001b[0m in \u001b[0;36mappend\u001b[0;34m(self, other, ignore_index, verify_integrity, sort)\u001b[0m\n\u001b[1;32m   7749\u001b[0m             \u001b[0mignore_index\u001b[0m\u001b[0;34m=\u001b[0m\u001b[0mignore_index\u001b[0m\u001b[0;34m,\u001b[0m\u001b[0;34m\u001b[0m\u001b[0;34m\u001b[0m\u001b[0m\n\u001b[1;32m   7750\u001b[0m             \u001b[0mverify_integrity\u001b[0m\u001b[0;34m=\u001b[0m\u001b[0mverify_integrity\u001b[0m\u001b[0;34m,\u001b[0m\u001b[0;34m\u001b[0m\u001b[0;34m\u001b[0m\u001b[0m\n\u001b[0;32m-> 7751\u001b[0;31m             \u001b[0msort\u001b[0m\u001b[0;34m=\u001b[0m\u001b[0msort\u001b[0m\u001b[0;34m,\u001b[0m\u001b[0;34m\u001b[0m\u001b[0;34m\u001b[0m\u001b[0m\n\u001b[0m\u001b[1;32m   7752\u001b[0m         )\n\u001b[1;32m   7753\u001b[0m \u001b[0;34m\u001b[0m\u001b[0m\n",
      "\u001b[0;32m/usr/local/lib/python3.7/dist-packages/pandas/core/reshape/concat.py\u001b[0m in \u001b[0;36mconcat\u001b[0;34m(objs, axis, join, ignore_index, keys, levels, names, verify_integrity, sort, copy)\u001b[0m\n\u001b[1;32m    285\u001b[0m     )\n\u001b[1;32m    286\u001b[0m \u001b[0;34m\u001b[0m\u001b[0m\n\u001b[0;32m--> 287\u001b[0;31m     \u001b[0;32mreturn\u001b[0m \u001b[0mop\u001b[0m\u001b[0;34m.\u001b[0m\u001b[0mget_result\u001b[0m\u001b[0;34m(\u001b[0m\u001b[0;34m)\u001b[0m\u001b[0;34m\u001b[0m\u001b[0;34m\u001b[0m\u001b[0m\n\u001b[0m\u001b[1;32m    288\u001b[0m \u001b[0;34m\u001b[0m\u001b[0m\n\u001b[1;32m    289\u001b[0m \u001b[0;34m\u001b[0m\u001b[0m\n",
      "\u001b[0;32m/usr/local/lib/python3.7/dist-packages/pandas/core/reshape/concat.py\u001b[0m in \u001b[0;36mget_result\u001b[0;34m(self)\u001b[0m\n\u001b[1;32m    501\u001b[0m \u001b[0;34m\u001b[0m\u001b[0m\n\u001b[1;32m    502\u001b[0m             new_data = concatenate_block_managers(\n\u001b[0;32m--> 503\u001b[0;31m                 \u001b[0mmgrs_indexers\u001b[0m\u001b[0;34m,\u001b[0m \u001b[0mself\u001b[0m\u001b[0;34m.\u001b[0m\u001b[0mnew_axes\u001b[0m\u001b[0;34m,\u001b[0m \u001b[0mconcat_axis\u001b[0m\u001b[0;34m=\u001b[0m\u001b[0mself\u001b[0m\u001b[0;34m.\u001b[0m\u001b[0mbm_axis\u001b[0m\u001b[0;34m,\u001b[0m \u001b[0mcopy\u001b[0m\u001b[0;34m=\u001b[0m\u001b[0mself\u001b[0m\u001b[0;34m.\u001b[0m\u001b[0mcopy\u001b[0m\u001b[0;34m,\u001b[0m\u001b[0;34m\u001b[0m\u001b[0;34m\u001b[0m\u001b[0m\n\u001b[0m\u001b[1;32m    504\u001b[0m             )\n\u001b[1;32m    505\u001b[0m             \u001b[0;32mif\u001b[0m \u001b[0;32mnot\u001b[0m \u001b[0mself\u001b[0m\u001b[0;34m.\u001b[0m\u001b[0mcopy\u001b[0m\u001b[0;34m:\u001b[0m\u001b[0;34m\u001b[0m\u001b[0;34m\u001b[0m\u001b[0m\n",
      "\u001b[0;32m/usr/local/lib/python3.7/dist-packages/pandas/core/internals/concat.py\u001b[0m in \u001b[0;36mconcatenate_block_managers\u001b[0;34m(mgrs_indexers, axes, concat_axis, copy)\u001b[0m\n\u001b[1;32m     67\u001b[0m \u001b[0;34m\u001b[0m\u001b[0m\n\u001b[1;32m     68\u001b[0m             \u001b[0;32mif\u001b[0m \u001b[0;32mnot\u001b[0m \u001b[0mblk\u001b[0m\u001b[0;34m.\u001b[0m\u001b[0mis_extension\u001b[0m\u001b[0;34m:\u001b[0m\u001b[0;34m\u001b[0m\u001b[0;34m\u001b[0m\u001b[0m\n\u001b[0;32m---> 69\u001b[0;31m                 \u001b[0mvalues\u001b[0m \u001b[0;34m=\u001b[0m \u001b[0mconcat_compat\u001b[0m\u001b[0;34m(\u001b[0m\u001b[0mvals\u001b[0m\u001b[0;34m,\u001b[0m \u001b[0maxis\u001b[0m\u001b[0;34m=\u001b[0m\u001b[0mblk\u001b[0m\u001b[0;34m.\u001b[0m\u001b[0mndim\u001b[0m \u001b[0;34m-\u001b[0m \u001b[0;36m1\u001b[0m\u001b[0;34m)\u001b[0m\u001b[0;34m\u001b[0m\u001b[0;34m\u001b[0m\u001b[0m\n\u001b[0m\u001b[1;32m     70\u001b[0m             \u001b[0;32melse\u001b[0m\u001b[0;34m:\u001b[0m\u001b[0;34m\u001b[0m\u001b[0;34m\u001b[0m\u001b[0m\n\u001b[1;32m     71\u001b[0m                 \u001b[0;31m# TODO(EA2D): special-casing not needed with 2D EAs\u001b[0m\u001b[0;34m\u001b[0m\u001b[0;34m\u001b[0m\u001b[0;34m\u001b[0m\u001b[0m\n",
      "\u001b[0;32m/usr/local/lib/python3.7/dist-packages/pandas/core/dtypes/concat.py\u001b[0m in \u001b[0;36mconcat_compat\u001b[0;34m(to_concat, axis)\u001b[0m\n\u001b[1;32m    178\u001b[0m                 \u001b[0mto_concat\u001b[0m \u001b[0;34m=\u001b[0m \u001b[0;34m[\u001b[0m\u001b[0mx\u001b[0m\u001b[0;34m.\u001b[0m\u001b[0mastype\u001b[0m\u001b[0;34m(\u001b[0m\u001b[0;34m\"object\"\u001b[0m\u001b[0;34m)\u001b[0m \u001b[0;32mfor\u001b[0m \u001b[0mx\u001b[0m \u001b[0;32min\u001b[0m \u001b[0mto_concat\u001b[0m\u001b[0;34m]\u001b[0m\u001b[0;34m\u001b[0m\u001b[0;34m\u001b[0m\u001b[0m\n\u001b[1;32m    179\u001b[0m \u001b[0;34m\u001b[0m\u001b[0m\n\u001b[0;32m--> 180\u001b[0;31m     \u001b[0;32mreturn\u001b[0m \u001b[0mnp\u001b[0m\u001b[0;34m.\u001b[0m\u001b[0mconcatenate\u001b[0m\u001b[0;34m(\u001b[0m\u001b[0mto_concat\u001b[0m\u001b[0;34m,\u001b[0m \u001b[0maxis\u001b[0m\u001b[0;34m=\u001b[0m\u001b[0maxis\u001b[0m\u001b[0;34m)\u001b[0m\u001b[0;34m\u001b[0m\u001b[0;34m\u001b[0m\u001b[0m\n\u001b[0m\u001b[1;32m    181\u001b[0m \u001b[0;34m\u001b[0m\u001b[0m\n\u001b[1;32m    182\u001b[0m \u001b[0;34m\u001b[0m\u001b[0m\n",
      "\u001b[0;32m<__array_function__ internals>\u001b[0m in \u001b[0;36mconcatenate\u001b[0;34m(*args, **kwargs)\u001b[0m\n",
      "\u001b[0;31mKeyboardInterrupt\u001b[0m: "
     ]
    }
   ],
   "source": [
    "\n",
    "df2 = pd.DataFrame(columns = [\"Items\",\"vector\"])\n",
    "with open(\"/content/drive/MyDrive/rep-test.txt\",'r') as fp:\n",
    "     for line in tqdm(fp.readlines()):\n",
    "            a = line.split()\n",
    "            vectors = a[1:66]\n",
    "            vectors[:] = [float(x) for x in vectors]\n",
    "            \n",
    "            df2 = df2.append({\"Items\":a[0], \"vector\":vectors},ignore_index=True)\n",
    "#             print(vector)\n",
    "            \n",
    "# 整理smore output檔 （item 跟矩陣）\n",
    "# userID應該要改叫item，因為他有新聞編號跟用戶編號"
   ]
  },
  {
   "cell_type": "code",
   "execution_count": null,
   "metadata": {
    "id": "A4D9j44rqqlO"
   },
   "outputs": [],
   "source": [
    "df3 = pd.DataFrame(columns = [\"Items\",\"vector\"])\n",
    "with open(\"/content/drive/MyDrive/rep-train.txt\",'r') as fp:\n",
    "     for line in tqdm(fp.readlines()):\n",
    "            a = line.split()\n",
    "            vectors = a[1:66]\n",
    "            vectors[:] = [float(x) for x in vectors]\n",
    "            \n",
    "            df3 = df3.append({\"Items\":a[0], \"vector\":vectors},ignore_index=True)\n",
    "#             print(vector)\n",
    "            \n",
    "# 整理smore output檔 （item 跟矩陣）\n",
    "# userID應該要改叫item，因為他有新聞編號跟用戶編號"
   ]
  },
  {
   "cell_type": "code",
   "execution_count": null,
   "metadata": {
    "id": "aA_pl6wem70q",
    "scrolled": true
   },
   "outputs": [],
   "source": [
    "\n",
    "df2 = df2.set_index(\"Items\")\n",
    "df3 = df3.set_index(\"Items\")\n",
    "# 因為做過了"
   ]
  },
  {
   "cell_type": "code",
   "execution_count": null,
   "metadata": {
    "id": "ZsiBJPlLm70q",
    "outputId": "5bbcea9e-b461-4dfe-bcce-31f89aa41d52"
   },
   "outputs": [
    {
     "data": {
      "text/plain": [
       "64"
      ]
     },
     "execution_count": 61,
     "metadata": {
      "tags": []
     },
     "output_type": "execute_result"
    }
   ],
   "source": [
    "df2.head()\n",
    "len(df2.at['U64099','vector'])\n"
   ]
  },
  {
   "cell_type": "code",
   "execution_count": null,
   "metadata": {
    "id": "HZDWOyt9m70q",
    "outputId": "64975a26-6fe6-4dd2-e179-0b584fe88d15"
   },
   "outputs": [
    {
     "name": "stderr",
     "output_type": "stream",
     "text": [
      "100%|██████████| 2370727/2370727 [1:17:10<00:00, 512.02it/s]\n"
     ]
    }
   ],
   "source": [
    "with open('/content/drive/MyDrive/prediction_cos.txt', 'w') as f:\n",
    "#     count = 0\n",
    "    \n",
    "    for i in tqdm(df.index):\n",
    "        list_score = []\n",
    "#         count+=1\n",
    "        user = df[\"User ID\"][i]\n",
    "        if user in df3.index.values:\n",
    "          \n",
    "            vector_of_user = df3.at[user,'vector']\n",
    "            a1 = np.array(vector_of_user)\n",
    "            list_imp = df[\"Impressions\"][i].split()\n",
    "            for j in list_imp:\n",
    "                vector_of_imp = [0.00001]*64\n",
    "                try:\n",
    "                    vector_of_imp = df3.at[j,'vector']\n",
    "                except:\n",
    "                    pass\n",
    "                a2 = np.array(vector_of_imp)\n",
    "                cos_sim = np.dot(a1,a2) / (np.linalg.norm(a1) * np.linalg.norm(a2))\n",
    "                list_score.append(cos_sim)\n",
    "            Ranka = sorted(range(1,len(list_score)+1),key = lambda k :list_score[k-1],reverse = True)\n",
    "            adjusted = '[{0}]'.format(','.join(map(str, Ranka)))\n",
    "            row = str(i) + \" \" + str(adjusted)\n",
    "            f.write(row)\n",
    "            f.write('\\n')\n",
    "        elif user in df2.index.values:\n",
    "              vector_of_user = df2.at[user,'vector']\n",
    "              a1 = np.array(vector_of_user)\n",
    "          list_imp = df[\"Impressions\"][i].split()\n",
    "          for j in list_imp:\n",
    "              vector_of_imp = [0.00001]*64\n",
    "              try:\n",
    "                  vector_of_imp = df2.at[j,'vector']\n",
    "              except:\n",
    "                  pass\n",
    "              a2 = np.array(vector_of_imp)\n",
    "              cos_sim = np.dot(a1,a2) / (np.linalg.norm(a1) * np.linalg.norm(a2))\n",
    "              list_score.append(cos_sim)\n",
    "          Ranka = sorted(range(1,len(list_score)+1),key = lambda k :list_score[k-1],reverse = True)\n",
    "          adjusted = '[{0}]'.format(','.join(map(str, Ranka)))\n",
    "          row = str(i) + \" \" + str(adjusted)\n",
    "          f.write(row)\n",
    "          f.write('\\n')\n",
    "#         if count == 100:\n",
    "#             break\n",
    "\n",
    "\n",
    "\n",
    "# cosine similarity\n",
    "        \n",
    "\n",
    "\n",
    "\n",
    "    \n",
    "   \n",
    "        \n",
    "            \n",
    "        "
   ]
  },
  {
   "cell_type": "code",
   "execution_count": null,
   "metadata": {
    "id": "HW6Iq8Ql3Vh2"
   },
   "outputs": [],
   "source": [
    "with open('/content/drive/MyDrive/prediction_dist.txt', 'w') as f:\n",
    "#     count = 0\n",
    "    \n",
    "    for i in tqdm(df.index):\n",
    "        list_score = []\n",
    "#         count+=1\n",
    "        user = df[\"User ID\"][i]\n",
    "        if user in df3.index.values:\n",
    "          vector_of_user = df3.at[user,'vector']\n",
    "          a1 = np.array(vector_of_user)\n",
    "          list_imp = df[\"Impressions\"][i].split()\n",
    "          for j in list_imp:\n",
    "              vector_of_imp = [0.00001]*64\n",
    "              try:\n",
    "                  vector_of_imp = df3.at[j,'vector']\n",
    "              except:\n",
    "                  pass\n",
    "              a2 = np.array(vector_of_imp)\n",
    "              dist = np.linalg.norm(a1-a2)\n",
    "              list_score.append(dist)\n",
    "          Ranka = sorted(range(1,len(list_score)+1),key = lambda k :list_score[k-1],reverse = True)\n",
    "          adjusted = '[{0}]'.format(','.join(map(str, Ranka)))\n",
    "          row = str(i) + \" \" + str(adjusted)\n",
    "          f.write(row)\n",
    "          f.write('\\n')\n",
    "        elif user in df2.index.values:\n",
    "          vector_of_user = df2.at[user,'vector']\n",
    "          a1 = np.array(vector_of_user)\n",
    "          list_imp = df[\"Impressions\"][i].split()\n",
    "          for j in list_imp:\n",
    "              vector_of_imp = [0.00001]*64\n",
    "              try:\n",
    "                  vector_of_imp = df2.at[j,'vector']\n",
    "              except:\n",
    "                  pass\n",
    "              a2 = np.array(vector_of_imp)\n",
    "              dist = np.linalg.norm(a1-a2)\n",
    "              list_score.append(dist)\n",
    "          Ranka = sorted(range(1,len(list_score)+1),key = lambda k :list_score[k-1],reverse = True)\n",
    "          adjusted = '[{0}]'.format(','.join(map(str, Ranka)))\n",
    "          row = str(i) + \" \" + str(adjusted)\n",
    "          f.write(row)\n",
    "          f.write('\\n')\n",
    "#         if count == 100:\n",
    "#             break\n",
    "\n",
    "\n",
    "\n",
    "# euclidean distance"
   ]
  },
  {
   "cell_type": "code",
   "execution_count": null,
   "metadata": {
    "id": "9Go5YZU6m70r"
   },
   "outputs": [],
   "source": [
    "# 不能只跑一部分，impression有的東西 history不一定有....\n"
   ]
  }
 ],
 "metadata": {
  "accelerator": "GPU",
  "colab": {
   "name": "data.ipynb",
   "provenance": []
  },
  "kernelspec": {
   "display_name": "Python 3",
   "language": "python",
   "name": "python3"
  },
  "language_info": {
   "codemirror_mode": {
    "name": "ipython",
    "version": 3
   },
   "file_extension": ".py",
   "mimetype": "text/x-python",
   "name": "python",
   "nbconvert_exporter": "python",
   "pygments_lexer": "ipython3",
   "version": "3.8.6"
  }
 },
 "nbformat": 4,
 "nbformat_minor": 1
}
