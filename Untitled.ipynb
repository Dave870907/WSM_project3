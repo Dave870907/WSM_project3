{
 "cells": [
  {
   "cell_type": "code",
   "execution_count": 2,
   "id": "ffe806fa",
   "metadata": {},
   "outputs": [
    {
     "name": "stdout",
     "output_type": "stream",
     "text": [
      "1\tU64099\t11/19/2019 11:37:45 AM\tN121133 N104200 N43255 N55860 N128965 N38014 N89445 N66089 N90367 N1128 N117219 N65119 N116090 N116464 N49705 N122682 N748 N62415 N49511 N63918 N90367 N560 N34058 N122682 N66666 N109962 N6958 N63174 N108801 N110976 N118629 N31390 N42718 N82405 N16941 N47739 N53474 N18190\tN101071-0 N15647-0 N83400-0 N124838-0 N57092-0 N64623-0 N62785-0 N112133-0 N98744-0 N55764-0 N16531-0 N54103-0 N128905-0 N2296-0 N45689-0 N87027-0\n"
     ]
    }
   ],
   "source": [
    "import tqdm\n",
    "with open('MINDlarge_test/behaviors.tsv') as behaviors, open('MINDlarge_test/newbehaviors.tsv', 'w') as newb:\n",
    "    behaviors = list(behaviors)\n",
    "    newb_list = []\n",
    "    for b in behaviors:\n",
    "        b_list = b.split('\\t')\n",
    "        imps = b_list[4][:-1].split(' ')\n",
    "        imps = list(map(lambda x:x+'-0', imps))\n",
    "        imps = ' '.join(imps)\n",
    "        b_list = b_list[:4]\n",
    "        b_list.append(imps)\n",
    "        newb_list.append('\\t'.join(b_list))\n",
    "    print(newb_list[0])\n",
    "    newb.write('\\n'.join(newb_list))"
   ]
  },
  {
   "cell_type": "code",
   "execution_count": null,
   "id": "035863ca",
   "metadata": {},
   "outputs": [],
   "source": []
  }
 ],
 "metadata": {
  "kernelspec": {
   "display_name": "Python 3",
   "language": "python",
   "name": "python3"
  },
  "language_info": {
   "codemirror_mode": {
    "name": "ipython",
    "version": 3
   },
   "file_extension": ".py",
   "mimetype": "text/x-python",
   "name": "python",
   "nbconvert_exporter": "python",
   "pygments_lexer": "ipython3",
   "version": "3.8.6"
  }
 },
 "nbformat": 4,
 "nbformat_minor": 5
}
