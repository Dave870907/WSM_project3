{
 "cells": [
  {
   "cell_type": "code",
   "execution_count": 2,
   "metadata": {},
   "outputs": [],
   "source": [
    "import pandas as pd\n",
    "data = pd.read_csv (\"MINDlarge_test/behaviors.tsv\", sep = '\\t', names=['Impression ID','User ID','Time','History','Impressions'])"
   ]
  },
  {
   "cell_type": "code",
   "execution_count": 3,
   "metadata": {
    "scrolled": true
   },
   "outputs": [],
   "source": [
    "import numpy as np \n",
    "import pandas as pd\n",
    "from tqdm import tqdm"
   ]
  },
  {
   "cell_type": "code",
   "execution_count": 4,
   "metadata": {},
   "outputs": [
    {
     "name": "stdout",
     "output_type": "stream",
     "text": [
      "Requirement already satisfied: tqdm in /Library/Frameworks/Python.framework/Versions/3.8/lib/python3.8/site-packages (4.59.0)\n",
      "\u001b[33mWARNING: You are using pip version 21.1.1; however, version 21.1.2 is available.\n",
      "You should consider upgrading via the '/Library/Frameworks/Python.framework/Versions/3.8/bin/python3.8 -m pip install --upgrade pip' command.\u001b[0m\n"
     ]
    }
   ],
   "source": [
    "!pip3 install tqdm\n"
   ]
  },
  {
   "cell_type": "code",
   "execution_count": 4,
   "metadata": {},
   "outputs": [
    {
     "data": {
      "text/html": [
       "<div>\n",
       "<style scoped>\n",
       "    .dataframe tbody tr th:only-of-type {\n",
       "        vertical-align: middle;\n",
       "    }\n",
       "\n",
       "    .dataframe tbody tr th {\n",
       "        vertical-align: top;\n",
       "    }\n",
       "\n",
       "    .dataframe thead th {\n",
       "        text-align: right;\n",
       "    }\n",
       "</style>\n",
       "<table border=\"1\" class=\"dataframe\">\n",
       "  <thead>\n",
       "    <tr style=\"text-align: right;\">\n",
       "      <th></th>\n",
       "      <th>User ID</th>\n",
       "      <th>Time</th>\n",
       "      <th>History</th>\n",
       "      <th>Impressions</th>\n",
       "    </tr>\n",
       "    <tr>\n",
       "      <th>Impression ID</th>\n",
       "      <th></th>\n",
       "      <th></th>\n",
       "      <th></th>\n",
       "      <th></th>\n",
       "    </tr>\n",
       "  </thead>\n",
       "  <tbody>\n",
       "    <tr>\n",
       "      <th>1</th>\n",
       "      <td>U64099</td>\n",
       "      <td>11/19/2019 11:37:45 AM</td>\n",
       "      <td>N121133 N104200 N43255 N55860 N128965 N38014 N...</td>\n",
       "      <td>N101071 N15647 N83400 N124838 N57092 N64623 N6...</td>\n",
       "    </tr>\n",
       "    <tr>\n",
       "      <th>2</th>\n",
       "      <td>U231077</td>\n",
       "      <td>11/19/2019 5:28:08 AM</td>\n",
       "      <td>N45124 N84730 N45128 N104312 N70022 N99111 N26...</td>\n",
       "      <td>N14657 N51253 N49521 N126571 N74286 N101071 N1...</td>\n",
       "    </tr>\n",
       "    <tr>\n",
       "      <th>3</th>\n",
       "      <td>U606012</td>\n",
       "      <td>11/19/2019 4:46:23 AM</td>\n",
       "      <td>N59893 N84662 N90686 N33265 N127225 N120859 N6...</td>\n",
       "      <td>N74286 N9250 N26898 N123737 N98301 N80580 N456...</td>\n",
       "    </tr>\n",
       "    <tr>\n",
       "      <th>4</th>\n",
       "      <td>U320649</td>\n",
       "      <td>11/21/2019 6:03:51 AM</td>\n",
       "      <td>N110863 N7889 N86335 N85056 N115743 N63372 N19...</td>\n",
       "      <td>N119559 N37657 N108085 N91287 N39136 N130190 N...</td>\n",
       "    </tr>\n",
       "    <tr>\n",
       "      <th>5</th>\n",
       "      <td>U357840</td>\n",
       "      <td>11/22/2019 10:36:19 AM</td>\n",
       "      <td>N98596 N85005 N15713 N67779 N47961 N55571 N666...</td>\n",
       "      <td>N60658 N43496 N65220 N9125 N63136 N83728 N3208...</td>\n",
       "    </tr>\n",
       "  </tbody>\n",
       "</table>\n",
       "</div>"
      ],
      "text/plain": [
       "               User ID                    Time  \\\n",
       "Impression ID                                    \n",
       "1               U64099  11/19/2019 11:37:45 AM   \n",
       "2              U231077   11/19/2019 5:28:08 AM   \n",
       "3              U606012   11/19/2019 4:46:23 AM   \n",
       "4              U320649   11/21/2019 6:03:51 AM   \n",
       "5              U357840  11/22/2019 10:36:19 AM   \n",
       "\n",
       "                                                         History  \\\n",
       "Impression ID                                                      \n",
       "1              N121133 N104200 N43255 N55860 N128965 N38014 N...   \n",
       "2              N45124 N84730 N45128 N104312 N70022 N99111 N26...   \n",
       "3              N59893 N84662 N90686 N33265 N127225 N120859 N6...   \n",
       "4              N110863 N7889 N86335 N85056 N115743 N63372 N19...   \n",
       "5              N98596 N85005 N15713 N67779 N47961 N55571 N666...   \n",
       "\n",
       "                                                     Impressions  \n",
       "Impression ID                                                     \n",
       "1              N101071 N15647 N83400 N124838 N57092 N64623 N6...  \n",
       "2              N14657 N51253 N49521 N126571 N74286 N101071 N1...  \n",
       "3              N74286 N9250 N26898 N123737 N98301 N80580 N456...  \n",
       "4              N119559 N37657 N108085 N91287 N39136 N130190 N...  \n",
       "5              N60658 N43496 N65220 N9125 N63136 N83728 N3208...  "
      ]
     },
     "execution_count": 4,
     "metadata": {},
     "output_type": "execute_result"
    }
   ],
   "source": [
    "data = data.set_index('Impression ID')\n",
    "data.head()"
   ]
  },
  {
   "cell_type": "code",
   "execution_count": 5,
   "metadata": {},
   "outputs": [],
   "source": [
    "df = data.loc[:, [\"User ID\",\"History\",\"Impressions\"]]\n"
   ]
  },
  {
   "cell_type": "code",
   "execution_count": 6,
   "metadata": {},
   "outputs": [
    {
     "data": {
      "text/plain": [
       "16"
      ]
     },
     "execution_count": 6,
     "metadata": {},
     "output_type": "execute_result"
    }
   ],
   "source": [
    "len(df.at[1,\"Impressions\"].split())\n"
   ]
  },
  {
   "cell_type": "code",
   "execution_count": 7,
   "metadata": {},
   "outputs": [
    {
     "data": {
      "text/html": [
       "<div>\n",
       "<style scoped>\n",
       "    .dataframe tbody tr th:only-of-type {\n",
       "        vertical-align: middle;\n",
       "    }\n",
       "\n",
       "    .dataframe tbody tr th {\n",
       "        vertical-align: top;\n",
       "    }\n",
       "\n",
       "    .dataframe thead th {\n",
       "        text-align: right;\n",
       "    }\n",
       "</style>\n",
       "<table border=\"1\" class=\"dataframe\">\n",
       "  <thead>\n",
       "    <tr style=\"text-align: right;\">\n",
       "      <th></th>\n",
       "      <th>User ID</th>\n",
       "      <th>History</th>\n",
       "      <th>Impressions</th>\n",
       "    </tr>\n",
       "    <tr>\n",
       "      <th>Impression ID</th>\n",
       "      <th></th>\n",
       "      <th></th>\n",
       "      <th></th>\n",
       "    </tr>\n",
       "  </thead>\n",
       "  <tbody>\n",
       "    <tr>\n",
       "      <th>1</th>\n",
       "      <td>U64099</td>\n",
       "      <td>N121133 N104200 N43255 N55860 N128965 N38014 N...</td>\n",
       "      <td>N101071 N15647 N83400 N124838 N57092 N64623 N6...</td>\n",
       "    </tr>\n",
       "    <tr>\n",
       "      <th>2</th>\n",
       "      <td>U231077</td>\n",
       "      <td>N45124 N84730 N45128 N104312 N70022 N99111 N26...</td>\n",
       "      <td>N14657 N51253 N49521 N126571 N74286 N101071 N1...</td>\n",
       "    </tr>\n",
       "    <tr>\n",
       "      <th>3</th>\n",
       "      <td>U606012</td>\n",
       "      <td>N59893 N84662 N90686 N33265 N127225 N120859 N6...</td>\n",
       "      <td>N74286 N9250 N26898 N123737 N98301 N80580 N456...</td>\n",
       "    </tr>\n",
       "    <tr>\n",
       "      <th>4</th>\n",
       "      <td>U320649</td>\n",
       "      <td>N110863 N7889 N86335 N85056 N115743 N63372 N19...</td>\n",
       "      <td>N119559 N37657 N108085 N91287 N39136 N130190 N...</td>\n",
       "    </tr>\n",
       "    <tr>\n",
       "      <th>5</th>\n",
       "      <td>U357840</td>\n",
       "      <td>N98596 N85005 N15713 N67779 N47961 N55571 N666...</td>\n",
       "      <td>N60658 N43496 N65220 N9125 N63136 N83728 N3208...</td>\n",
       "    </tr>\n",
       "    <tr>\n",
       "      <th>...</th>\n",
       "      <td>...</td>\n",
       "      <td>...</td>\n",
       "      <td>...</td>\n",
       "    </tr>\n",
       "    <tr>\n",
       "      <th>2370723</th>\n",
       "      <td>U584874</td>\n",
       "      <td>N72571 N14240 N26193 N82055 N23920 N41710</td>\n",
       "      <td>N63756 N40488 N1912 N119559 N56012 N91287 N6629</td>\n",
       "    </tr>\n",
       "    <tr>\n",
       "      <th>2370724</th>\n",
       "      <td>U584857</td>\n",
       "      <td>N57191 N54360 N1596 N61590 N104737 N71977 N773...</td>\n",
       "      <td>N13424 N81398 N45995 N53301 N80156 N65220 N913...</td>\n",
       "    </tr>\n",
       "    <tr>\n",
       "      <th>2370725</th>\n",
       "      <td>U160629</td>\n",
       "      <td>N105366 N51167 N66294 N71092 N92463 N38171 N11...</td>\n",
       "      <td>N96391 N56557 N76934 N130 N114959</td>\n",
       "    </tr>\n",
       "    <tr>\n",
       "      <th>2370726</th>\n",
       "      <td>U406290</td>\n",
       "      <td>N55903 N85484 N12015 N121551 N65119 N15471 N11...</td>\n",
       "      <td>N100633 N93461 N18760 N122566 N65522 N68985 N6...</td>\n",
       "    </tr>\n",
       "    <tr>\n",
       "      <th>2370727</th>\n",
       "      <td>U268599</td>\n",
       "      <td>N9740 N65259 N112324 N29153 N59111 N54723 N343...</td>\n",
       "      <td>N77696 N8159 N68290 N87227 N32131 N26374 N3132...</td>\n",
       "    </tr>\n",
       "  </tbody>\n",
       "</table>\n",
       "<p>2370727 rows × 3 columns</p>\n",
       "</div>"
      ],
      "text/plain": [
       "               User ID                                            History  \\\n",
       "Impression ID                                                               \n",
       "1               U64099  N121133 N104200 N43255 N55860 N128965 N38014 N...   \n",
       "2              U231077  N45124 N84730 N45128 N104312 N70022 N99111 N26...   \n",
       "3              U606012  N59893 N84662 N90686 N33265 N127225 N120859 N6...   \n",
       "4              U320649  N110863 N7889 N86335 N85056 N115743 N63372 N19...   \n",
       "5              U357840  N98596 N85005 N15713 N67779 N47961 N55571 N666...   \n",
       "...                ...                                                ...   \n",
       "2370723        U584874          N72571 N14240 N26193 N82055 N23920 N41710   \n",
       "2370724        U584857  N57191 N54360 N1596 N61590 N104737 N71977 N773...   \n",
       "2370725        U160629  N105366 N51167 N66294 N71092 N92463 N38171 N11...   \n",
       "2370726        U406290  N55903 N85484 N12015 N121551 N65119 N15471 N11...   \n",
       "2370727        U268599  N9740 N65259 N112324 N29153 N59111 N54723 N343...   \n",
       "\n",
       "                                                     Impressions  \n",
       "Impression ID                                                     \n",
       "1              N101071 N15647 N83400 N124838 N57092 N64623 N6...  \n",
       "2              N14657 N51253 N49521 N126571 N74286 N101071 N1...  \n",
       "3              N74286 N9250 N26898 N123737 N98301 N80580 N456...  \n",
       "4              N119559 N37657 N108085 N91287 N39136 N130190 N...  \n",
       "5              N60658 N43496 N65220 N9125 N63136 N83728 N3208...  \n",
       "...                                                          ...  \n",
       "2370723          N63756 N40488 N1912 N119559 N56012 N91287 N6629  \n",
       "2370724        N13424 N81398 N45995 N53301 N80156 N65220 N913...  \n",
       "2370725                        N96391 N56557 N76934 N130 N114959  \n",
       "2370726        N100633 N93461 N18760 N122566 N65522 N68985 N6...  \n",
       "2370727        N77696 N8159 N68290 N87227 N32131 N26374 N3132...  \n",
       "\n",
       "[2370727 rows x 3 columns]"
      ]
     },
     "execution_count": 7,
     "metadata": {},
     "output_type": "execute_result"
    }
   ],
   "source": [
    "df"
   ]
  },
  {
   "cell_type": "code",
   "execution_count": null,
   "metadata": {},
   "outputs": [],
   "source": [
    "# with open('sub.txt', 'w') as f:\n",
    "#     for index, row in df.iterrows():\n",
    "#         num = len(row[1].split(' '))\n",
    "#         l = [i for i in range(1, num+1)]\n",
    "#         a = '[{0}]'.format(','.join(map(str, l)))\n",
    "#         w = f\"{index} {a}\"\n",
    "#         f.write(w)\n",
    "#         f.write('\\n')"
   ]
  },
  {
   "cell_type": "code",
   "execution_count": null,
   "metadata": {},
   "outputs": [],
   "source": [
    "# import re\n",
    "# a = [1,2,3,4]\n",
    "\n",
    "# print('[{0}]'.format(','.join(map(str, a))))  "
   ]
  },
  {
   "cell_type": "code",
   "execution_count": 193,
   "metadata": {
    "scrolled": true
   },
   "outputs": [],
   "source": [
    "with open('test.txt', 'w') as f:\n",
    "    for i in df.index:\n",
    "\n",
    "        for j in str(df[\"History\"][i]).split():\n",
    "\n",
    "            w = str(df[\"User ID\"][i])+\" \"+str(j)+\" \"+str(1)\n",
    "            f.write(w)\n",
    "            f.write('\\n')\n",
    "# smore input檔\n",
    "    "
   ]
  },
  {
   "cell_type": "code",
   "execution_count": 39,
   "metadata": {},
   "outputs": [
    {
     "name": "stdout",
     "output_type": "stream",
     "text": [
      "['Hello,', 'World!', 'I', 'am', 'here.']\n"
     ]
    }
   ],
   "source": [
    "# 啊怎麼沒print半個東西出來啦！\n",
    "# 明早run上面那格\n",
    "\n",
    "# 我今天丟了前十萬個人的資料進去，明天試試算出這些人的成績"
   ]
  },
  {
   "cell_type": "code",
   "execution_count": 8,
   "metadata": {},
   "outputs": [],
   "source": [
    "with open('test.txt', 'w') as f:\n",
    "    count = 0\n",
    "    for i in df.index:\n",
    "        count+=1\n",
    "        for j in str(df[\"History\"][i]).split():\n",
    "\n",
    "            w = str(df[\"User ID\"][i])+\" \"+str(j)+\" \"+str(1)\n",
    "            f.write(w)\n",
    "            f.write('\\n')\n",
    "        if count == 100000:\n",
    "            break\n",
    "# 小的smore input檔"
   ]
  },
  {
   "cell_type": "code",
   "execution_count": 59,
   "metadata": {},
   "outputs": [
    {
     "name": "stderr",
     "output_type": "stream",
     "text": [
      "100%|██████████| 797342/797342 [6:32:00<00:00, 33.90it/s]   \n"
     ]
    }
   ],
   "source": [
    "\n",
    "df2 = pd.DataFrame(columns = [\"Items\",\"vector\"])\n",
    "with open(\"smore_output/rep-dw.txt\",'r') as fp:\n",
    "     for line in tqdm(fp.readlines()):\n",
    "            a = line.split()\n",
    "            vectors = a[1:66]\n",
    "            vectors[:] = [float(x) for x in vectors]\n",
    "            \n",
    "            df2 = df2.append({\"Items\":a[0], \"vector\":vectors},ignore_index=True)\n",
    "#             print(vector)\n",
    "            \n",
    "# 整理smore output檔 （item 跟矩陣）\n",
    "# userID應該要改叫item，因為他有新聞編號跟用戶編號"
   ]
  },
  {
   "cell_type": "code",
   "execution_count": 60,
   "metadata": {
    "scrolled": true
   },
   "outputs": [],
   "source": [
    "\n",
    "df2 = df2.set_index(\"Items\")\n",
    "# 因為做過了"
   ]
  },
  {
   "cell_type": "code",
   "execution_count": 61,
   "metadata": {},
   "outputs": [
    {
     "data": {
      "text/plain": [
       "64"
      ]
     },
     "execution_count": 61,
     "metadata": {},
     "output_type": "execute_result"
    }
   ],
   "source": [
    "df2.head()\n",
    "len(df2.at['U64099','vector'])\n"
   ]
  },
  {
   "cell_type": "code",
   "execution_count": 62,
   "metadata": {},
   "outputs": [
    {
     "name": "stderr",
     "output_type": "stream",
     "text": [
      "100%|██████████| 2370727/2370727 [1:17:10<00:00, 512.02it/s]\n"
     ]
    }
   ],
   "source": [
    "with open('prediction_mine.txt', 'w') as f:\n",
    "#     count = 0\n",
    "    \n",
    "    for i in tqdm(df.index):\n",
    "        list_score = []\n",
    "#         count+=1\n",
    "        user = df[\"User ID\"][i]\n",
    "        vector_of_user = df2.at[user,'vector']\n",
    "        a1 = np.array(vector_of_user)\n",
    "        list_imp = df[\"Impressions\"][i].split()\n",
    "        for j in list_imp:\n",
    "            vector_of_imp = [0.00001]*64\n",
    "            try:\n",
    "                vector_of_imp = df2.at[j,'vector']\n",
    "            except:\n",
    "                pass\n",
    "            a2 = np.array(vector_of_imp)\n",
    "            cos_sim = np.dot(a1,a2) / (np.linalg.norm(a1) * np.linalg.norm(a2))\n",
    "            list_score.append(cos_sim)\n",
    "        Ranka = sorted(range(1,len(list_score)+1),key = lambda k :list_score[k-1],reverse = True)\n",
    "        adjusted = '[{0}]'.format(','.join(map(str, Ranka)))\n",
    "        row = str(i) + \" \" + str(adjusted)\n",
    "        f.write(row)\n",
    "        f.write('\\n')\n",
    "#         if count == 100:\n",
    "#             break\n",
    "        \n",
    "\n",
    "\n",
    "\n",
    "    \n",
    "   \n",
    "        \n",
    "            \n",
    "        "
   ]
  },
  {
   "cell_type": "code",
   "execution_count": null,
   "metadata": {},
   "outputs": [],
   "source": [
    "# 不能只跑一部分，impression有的東西 history不一定有....\n"
   ]
  }
 ],
 "metadata": {
  "kernelspec": {
   "display_name": "Python 3",
   "language": "python",
   "name": "python3"
  },
  "language_info": {
   "codemirror_mode": {
    "name": "ipython",
    "version": 3
   },
   "file_extension": ".py",
   "mimetype": "text/x-python",
   "name": "python",
   "nbconvert_exporter": "python",
   "pygments_lexer": "ipython3",
   "version": "3.8.6"
  }
 },
 "nbformat": 4,
 "nbformat_minor": 2
}
