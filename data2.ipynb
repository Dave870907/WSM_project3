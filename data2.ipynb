{
 "cells": [
  {
   "cell_type": "code",
   "execution_count": 1,
   "metadata": {
    "colab": {
     "base_uri": "https://localhost:8080/",
     "height": 413
    },
    "id": "30jNNSIMm70j",
    "outputId": "97491aaf-7185-435f-a17b-1ecb5d7ae398"
   },
   "outputs": [],
   "source": [
    "import pandas as pd\n",
    "data = pd.read_csv (\"MINDlarge_test/behaviors.tsv\", sep = '\\t', names=['Impression ID','User ID','Time','History','Impressions'])"
   ]
  },
  {
   "cell_type": "code",
   "execution_count": 2,
   "metadata": {
    "id": "UIuEdSZ7m70k",
    "scrolled": true
   },
   "outputs": [],
   "source": [
    "import numpy as np \n",
    "import pandas as pd\n",
    "from tqdm import tqdm"
   ]
  },
  {
   "cell_type": "code",
   "execution_count": null,
   "metadata": {
    "id": "AgtYTX0gm70k",
    "outputId": "c8442e9f-1234-451a-b74e-6c8397dab9f4",
    "scrolled": true
   },
   "outputs": [
    {
     "name": "stdout",
     "output_type": "stream",
     "text": [
      "Requirement already satisfied: tqdm in /Library/Frameworks/Python.framework/Versions/3.8/lib/python3.8/site-packages (4.59.0)\n",
      "\u001b[33mWARNING: You are using pip version 21.1.1; however, version 21.1.2 is available.\n",
      "You should consider upgrading via the '/Library/Frameworks/Python.framework/Versions/3.8/bin/python3.8 -m pip install --upgrade pip' command.\u001b[0m\n"
     ]
    }
   ],
   "source": [
    "!pip3 install tqdm\n"
   ]
  },
  {
   "cell_type": "code",
   "execution_count": 3,
   "metadata": {
    "id": "xpLOe6lfm70l",
    "outputId": "130d1573-75f9-43cd-8b31-5cb15e0847f4"
   },
   "outputs": [
    {
     "data": {
      "text/html": [
       "<div>\n",
       "<style scoped>\n",
       "    .dataframe tbody tr th:only-of-type {\n",
       "        vertical-align: middle;\n",
       "    }\n",
       "\n",
       "    .dataframe tbody tr th {\n",
       "        vertical-align: top;\n",
       "    }\n",
       "\n",
       "    .dataframe thead th {\n",
       "        text-align: right;\n",
       "    }\n",
       "</style>\n",
       "<table border=\"1\" class=\"dataframe\">\n",
       "  <thead>\n",
       "    <tr style=\"text-align: right;\">\n",
       "      <th></th>\n",
       "      <th>User ID</th>\n",
       "      <th>Time</th>\n",
       "      <th>History</th>\n",
       "      <th>Impressions</th>\n",
       "    </tr>\n",
       "    <tr>\n",
       "      <th>Impression ID</th>\n",
       "      <th></th>\n",
       "      <th></th>\n",
       "      <th></th>\n",
       "      <th></th>\n",
       "    </tr>\n",
       "  </thead>\n",
       "  <tbody>\n",
       "    <tr>\n",
       "      <th>1</th>\n",
       "      <td>U64099</td>\n",
       "      <td>11/19/2019 11:37:45 AM</td>\n",
       "      <td>N121133 N104200 N43255 N55860 N128965 N38014 N...</td>\n",
       "      <td>N101071 N15647 N83400 N124838 N57092 N64623 N6...</td>\n",
       "    </tr>\n",
       "    <tr>\n",
       "      <th>2</th>\n",
       "      <td>U231077</td>\n",
       "      <td>11/19/2019 5:28:08 AM</td>\n",
       "      <td>N45124 N84730 N45128 N104312 N70022 N99111 N26...</td>\n",
       "      <td>N14657 N51253 N49521 N126571 N74286 N101071 N1...</td>\n",
       "    </tr>\n",
       "    <tr>\n",
       "      <th>3</th>\n",
       "      <td>U606012</td>\n",
       "      <td>11/19/2019 4:46:23 AM</td>\n",
       "      <td>N59893 N84662 N90686 N33265 N127225 N120859 N6...</td>\n",
       "      <td>N74286 N9250 N26898 N123737 N98301 N80580 N456...</td>\n",
       "    </tr>\n",
       "    <tr>\n",
       "      <th>4</th>\n",
       "      <td>U320649</td>\n",
       "      <td>11/21/2019 6:03:51 AM</td>\n",
       "      <td>N110863 N7889 N86335 N85056 N115743 N63372 N19...</td>\n",
       "      <td>N119559 N37657 N108085 N91287 N39136 N130190 N...</td>\n",
       "    </tr>\n",
       "    <tr>\n",
       "      <th>5</th>\n",
       "      <td>U357840</td>\n",
       "      <td>11/22/2019 10:36:19 AM</td>\n",
       "      <td>N98596 N85005 N15713 N67779 N47961 N55571 N666...</td>\n",
       "      <td>N60658 N43496 N65220 N9125 N63136 N83728 N3208...</td>\n",
       "    </tr>\n",
       "  </tbody>\n",
       "</table>\n",
       "</div>"
      ],
      "text/plain": [
       "               User ID                    Time  \\\n",
       "Impression ID                                    \n",
       "1               U64099  11/19/2019 11:37:45 AM   \n",
       "2              U231077   11/19/2019 5:28:08 AM   \n",
       "3              U606012   11/19/2019 4:46:23 AM   \n",
       "4              U320649   11/21/2019 6:03:51 AM   \n",
       "5              U357840  11/22/2019 10:36:19 AM   \n",
       "\n",
       "                                                         History  \\\n",
       "Impression ID                                                      \n",
       "1              N121133 N104200 N43255 N55860 N128965 N38014 N...   \n",
       "2              N45124 N84730 N45128 N104312 N70022 N99111 N26...   \n",
       "3              N59893 N84662 N90686 N33265 N127225 N120859 N6...   \n",
       "4              N110863 N7889 N86335 N85056 N115743 N63372 N19...   \n",
       "5              N98596 N85005 N15713 N67779 N47961 N55571 N666...   \n",
       "\n",
       "                                                     Impressions  \n",
       "Impression ID                                                     \n",
       "1              N101071 N15647 N83400 N124838 N57092 N64623 N6...  \n",
       "2              N14657 N51253 N49521 N126571 N74286 N101071 N1...  \n",
       "3              N74286 N9250 N26898 N123737 N98301 N80580 N456...  \n",
       "4              N119559 N37657 N108085 N91287 N39136 N130190 N...  \n",
       "5              N60658 N43496 N65220 N9125 N63136 N83728 N3208...  "
      ]
     },
     "execution_count": 3,
     "metadata": {},
     "output_type": "execute_result"
    }
   ],
   "source": [
    "data = data.set_index('Impression ID')\n",
    "data.head()"
   ]
  },
  {
   "cell_type": "code",
   "execution_count": 4,
   "metadata": {
    "id": "tcS7WX7im70m"
   },
   "outputs": [],
   "source": [
    "df = data.loc[:, [\"User ID\",\"History\",\"Impressions\"]]\n"
   ]
  },
  {
   "cell_type": "code",
   "execution_count": null,
   "metadata": {
    "id": "dH7fFaDpm70m",
    "outputId": "3fe19cf9-98b6-41b6-90fb-ab19d8fb7670"
   },
   "outputs": [
    {
     "data": {
      "text/plain": [
       "16"
      ]
     },
     "execution_count": 6,
     "metadata": {
      "tags": []
     },
     "output_type": "execute_result"
    }
   ],
   "source": [
    "len(df.at[1,\"Impressions\"].split())\n"
   ]
  },
  {
   "cell_type": "code",
   "execution_count": null,
   "metadata": {
    "id": "g8f9QEUgm70n",
    "outputId": "dd2dd27b-1562-4c23-80f8-54b5c7b0d118"
   },
   "outputs": [
    {
     "data": {
      "text/html": [
       "<div>\n",
       "<style scoped>\n",
       "    .dataframe tbody tr th:only-of-type {\n",
       "        vertical-align: middle;\n",
       "    }\n",
       "\n",
       "    .dataframe tbody tr th {\n",
       "        vertical-align: top;\n",
       "    }\n",
       "\n",
       "    .dataframe thead th {\n",
       "        text-align: right;\n",
       "    }\n",
       "</style>\n",
       "<table border=\"1\" class=\"dataframe\">\n",
       "  <thead>\n",
       "    <tr style=\"text-align: right;\">\n",
       "      <th></th>\n",
       "      <th>User ID</th>\n",
       "      <th>History</th>\n",
       "      <th>Impressions</th>\n",
       "    </tr>\n",
       "    <tr>\n",
       "      <th>Impression ID</th>\n",
       "      <th></th>\n",
       "      <th></th>\n",
       "      <th></th>\n",
       "    </tr>\n",
       "  </thead>\n",
       "  <tbody>\n",
       "    <tr>\n",
       "      <th>1</th>\n",
       "      <td>U64099</td>\n",
       "      <td>N121133 N104200 N43255 N55860 N128965 N38014 N...</td>\n",
       "      <td>N101071 N15647 N83400 N124838 N57092 N64623 N6...</td>\n",
       "    </tr>\n",
       "    <tr>\n",
       "      <th>2</th>\n",
       "      <td>U231077</td>\n",
       "      <td>N45124 N84730 N45128 N104312 N70022 N99111 N26...</td>\n",
       "      <td>N14657 N51253 N49521 N126571 N74286 N101071 N1...</td>\n",
       "    </tr>\n",
       "    <tr>\n",
       "      <th>3</th>\n",
       "      <td>U606012</td>\n",
       "      <td>N59893 N84662 N90686 N33265 N127225 N120859 N6...</td>\n",
       "      <td>N74286 N9250 N26898 N123737 N98301 N80580 N456...</td>\n",
       "    </tr>\n",
       "    <tr>\n",
       "      <th>4</th>\n",
       "      <td>U320649</td>\n",
       "      <td>N110863 N7889 N86335 N85056 N115743 N63372 N19...</td>\n",
       "      <td>N119559 N37657 N108085 N91287 N39136 N130190 N...</td>\n",
       "    </tr>\n",
       "    <tr>\n",
       "      <th>5</th>\n",
       "      <td>U357840</td>\n",
       "      <td>N98596 N85005 N15713 N67779 N47961 N55571 N666...</td>\n",
       "      <td>N60658 N43496 N65220 N9125 N63136 N83728 N3208...</td>\n",
       "    </tr>\n",
       "    <tr>\n",
       "      <th>...</th>\n",
       "      <td>...</td>\n",
       "      <td>...</td>\n",
       "      <td>...</td>\n",
       "    </tr>\n",
       "    <tr>\n",
       "      <th>2370723</th>\n",
       "      <td>U584874</td>\n",
       "      <td>N72571 N14240 N26193 N82055 N23920 N41710</td>\n",
       "      <td>N63756 N40488 N1912 N119559 N56012 N91287 N6629</td>\n",
       "    </tr>\n",
       "    <tr>\n",
       "      <th>2370724</th>\n",
       "      <td>U584857</td>\n",
       "      <td>N57191 N54360 N1596 N61590 N104737 N71977 N773...</td>\n",
       "      <td>N13424 N81398 N45995 N53301 N80156 N65220 N913...</td>\n",
       "    </tr>\n",
       "    <tr>\n",
       "      <th>2370725</th>\n",
       "      <td>U160629</td>\n",
       "      <td>N105366 N51167 N66294 N71092 N92463 N38171 N11...</td>\n",
       "      <td>N96391 N56557 N76934 N130 N114959</td>\n",
       "    </tr>\n",
       "    <tr>\n",
       "      <th>2370726</th>\n",
       "      <td>U406290</td>\n",
       "      <td>N55903 N85484 N12015 N121551 N65119 N15471 N11...</td>\n",
       "      <td>N100633 N93461 N18760 N122566 N65522 N68985 N6...</td>\n",
       "    </tr>\n",
       "    <tr>\n",
       "      <th>2370727</th>\n",
       "      <td>U268599</td>\n",
       "      <td>N9740 N65259 N112324 N29153 N59111 N54723 N343...</td>\n",
       "      <td>N77696 N8159 N68290 N87227 N32131 N26374 N3132...</td>\n",
       "    </tr>\n",
       "  </tbody>\n",
       "</table>\n",
       "<p>2370727 rows × 3 columns</p>\n",
       "</div>"
      ],
      "text/plain": [
       "               User ID                                            History  \\\n",
       "Impression ID                                                               \n",
       "1               U64099  N121133 N104200 N43255 N55860 N128965 N38014 N...   \n",
       "2              U231077  N45124 N84730 N45128 N104312 N70022 N99111 N26...   \n",
       "3              U606012  N59893 N84662 N90686 N33265 N127225 N120859 N6...   \n",
       "4              U320649  N110863 N7889 N86335 N85056 N115743 N63372 N19...   \n",
       "5              U357840  N98596 N85005 N15713 N67779 N47961 N55571 N666...   \n",
       "...                ...                                                ...   \n",
       "2370723        U584874          N72571 N14240 N26193 N82055 N23920 N41710   \n",
       "2370724        U584857  N57191 N54360 N1596 N61590 N104737 N71977 N773...   \n",
       "2370725        U160629  N105366 N51167 N66294 N71092 N92463 N38171 N11...   \n",
       "2370726        U406290  N55903 N85484 N12015 N121551 N65119 N15471 N11...   \n",
       "2370727        U268599  N9740 N65259 N112324 N29153 N59111 N54723 N343...   \n",
       "\n",
       "                                                     Impressions  \n",
       "Impression ID                                                     \n",
       "1              N101071 N15647 N83400 N124838 N57092 N64623 N6...  \n",
       "2              N14657 N51253 N49521 N126571 N74286 N101071 N1...  \n",
       "3              N74286 N9250 N26898 N123737 N98301 N80580 N456...  \n",
       "4              N119559 N37657 N108085 N91287 N39136 N130190 N...  \n",
       "5              N60658 N43496 N65220 N9125 N63136 N83728 N3208...  \n",
       "...                                                          ...  \n",
       "2370723          N63756 N40488 N1912 N119559 N56012 N91287 N6629  \n",
       "2370724        N13424 N81398 N45995 N53301 N80156 N65220 N913...  \n",
       "2370725                        N96391 N56557 N76934 N130 N114959  \n",
       "2370726        N100633 N93461 N18760 N122566 N65522 N68985 N6...  \n",
       "2370727        N77696 N8159 N68290 N87227 N32131 N26374 N3132...  \n",
       "\n",
       "[2370727 rows x 3 columns]"
      ]
     },
     "execution_count": 7,
     "metadata": {
      "tags": []
     },
     "output_type": "execute_result"
    }
   ],
   "source": [
    "df"
   ]
  },
  {
   "cell_type": "code",
   "execution_count": null,
   "metadata": {
    "id": "Eik2yWRNm70n"
   },
   "outputs": [],
   "source": [
    "# with open('sub.txt', 'w') as f:\n",
    "#     for index, row in df.iterrows():\n",
    "#         num = len(row[1].split(' '))\n",
    "#         l = [i for i in range(1, num+1)]\n",
    "#         a = '[{0}]'.format(','.join(map(str, l)))\n",
    "#         w = f\"{index} {a}\"\n",
    "#         f.write(w)\n",
    "#         f.write('\\n')"
   ]
  },
  {
   "cell_type": "code",
   "execution_count": null,
   "metadata": {
    "id": "YR7x0vyOm70o"
   },
   "outputs": [],
   "source": [
    "# import re\n",
    "# a = [1,2,3,4]\n",
    "\n",
    "# print('[{0}]'.format(','.join(map(str, a))))  "
   ]
  },
  {
   "cell_type": "code",
   "execution_count": null,
   "metadata": {
    "id": "cpDvbBIcm70o",
    "scrolled": true
   },
   "outputs": [],
   "source": [
    "with open('test.txt', 'w') as f:\n",
    "    for i in df.index:\n",
    "\n",
    "        for j in str(df[\"History\"][i]).split():\n",
    "\n",
    "            w = str(df[\"User ID\"][i])+\" \"+str(j)+\" \"+str(1)\n",
    "            f.write(w)\n",
    "            f.write('\\n')\n",
    "# smore input檔\n",
    "    "
   ]
  },
  {
   "cell_type": "code",
   "execution_count": null,
   "metadata": {
    "id": "bGoI_Sw4m70p",
    "outputId": "5ff57502-00a5-4f00-9140-12060c511a7c"
   },
   "outputs": [
    {
     "name": "stdout",
     "output_type": "stream",
     "text": [
      "['Hello,', 'World!', 'I', 'am', 'here.']\n"
     ]
    }
   ],
   "source": [
    "# 啊怎麼沒print半個東西出來啦！\n",
    "# 明早run上面那格\n",
    "\n",
    "# 我今天丟了前十萬個人的資料進去，明天試試算出這些人的成績"
   ]
  },
  {
   "cell_type": "code",
   "execution_count": null,
   "metadata": {
    "id": "aUaMwmUbm70p"
   },
   "outputs": [],
   "source": [
    "with open('test.txt', 'w') as f:\n",
    "    count = 0\n",
    "    for i in df.index:\n",
    "        count+=1\n",
    "        for j in str(df[\"History\"][i]).split():\n",
    "\n",
    "            w = str(df[\"User ID\"][i])+\" \"+str(j)+\" \"+str(1)\n",
    "            f.write(w)\n",
    "            f.write('\\n')\n",
    "        if count == 100000:\n",
    "            break\n",
    "# 小的smore input檔"
   ]
  },
  {
   "cell_type": "code",
   "execution_count": null,
   "metadata": {
    "colab": {
     "base_uri": "https://localhost:8080/",
     "height": 430
    },
    "id": "f99mkDZum70p",
    "outputId": "9a3de8aa-7c12-4c10-92d6-56885fe2a929"
   },
   "outputs": [
    {
     "name": "stderr",
     "output_type": "stream",
     "text": [
      "  8%|▊         | 64552/797646 [05:04<1:17:00, 158.67it/s]"
     ]
    }
   ],
   "source": [
    "\n",
    "df2 = pd.DataFrame(columns = [\"Items\",\"vector\"])\n",
    "with open(\"smore_output/rep-test.txt\",'r') as fp:\n",
    "     for line in tqdm(fp.readlines()):\n",
    "            a = line.split()\n",
    "            vectors = a[1:66]\n",
    "            vectors[:] = [float(x) for x in vectors]\n",
    "            \n",
    "            df2 = df2.append({\"Items\":a[0], \"vector\":vectors},ignore_index=True)\n",
    "#             print(vector)\n",
    "            \n",
    "# 整理smore output檔 （item 跟矩陣）\n",
    "# userID應該要改叫item，因為他有新聞編號跟用戶編號"
   ]
  },
  {
   "cell_type": "code",
   "execution_count": 10,
   "metadata": {
    "id": "A4D9j44rqqlO"
   },
   "outputs": [
    {
     "name": "stderr",
     "output_type": "stream",
     "text": [
      "  0%|          | 1794/805666 [00:05<41:33, 322.40it/s]\n"
     ]
    },
    {
     "ename": "KeyboardInterrupt",
     "evalue": "",
     "output_type": "error",
     "traceback": [
      "\u001b[0;31m---------------------------------------------------------------------------\u001b[0m",
      "\u001b[0;31mKeyboardInterrupt\u001b[0m                         Traceback (most recent call last)",
      "\u001b[0;32m<ipython-input-10-63c6a2b6fd79>\u001b[0m in \u001b[0;36m<module>\u001b[0;34m\u001b[0m\n\u001b[1;32m      6\u001b[0m             \u001b[0mvectors\u001b[0m\u001b[0;34m[\u001b[0m\u001b[0;34m:\u001b[0m\u001b[0;34m]\u001b[0m \u001b[0;34m=\u001b[0m \u001b[0;34m[\u001b[0m\u001b[0mfloat\u001b[0m\u001b[0;34m(\u001b[0m\u001b[0mx\u001b[0m\u001b[0;34m)\u001b[0m \u001b[0;32mfor\u001b[0m \u001b[0mx\u001b[0m \u001b[0;32min\u001b[0m \u001b[0mvectors\u001b[0m\u001b[0;34m]\u001b[0m\u001b[0;34m\u001b[0m\u001b[0;34m\u001b[0m\u001b[0m\n\u001b[1;32m      7\u001b[0m \u001b[0;34m\u001b[0m\u001b[0m\n\u001b[0;32m----> 8\u001b[0;31m             \u001b[0mdf3\u001b[0m \u001b[0;34m=\u001b[0m \u001b[0mdf3\u001b[0m\u001b[0;34m.\u001b[0m\u001b[0mappend\u001b[0m\u001b[0;34m(\u001b[0m\u001b[0;34m{\u001b[0m\u001b[0;34m\"Items\"\u001b[0m\u001b[0;34m:\u001b[0m\u001b[0ma\u001b[0m\u001b[0;34m[\u001b[0m\u001b[0;36m0\u001b[0m\u001b[0;34m]\u001b[0m\u001b[0;34m,\u001b[0m \u001b[0;34m\"vector\"\u001b[0m\u001b[0;34m:\u001b[0m\u001b[0mvectors\u001b[0m\u001b[0;34m}\u001b[0m\u001b[0;34m,\u001b[0m\u001b[0mignore_index\u001b[0m\u001b[0;34m=\u001b[0m\u001b[0;32mTrue\u001b[0m\u001b[0;34m)\u001b[0m\u001b[0;34m\u001b[0m\u001b[0;34m\u001b[0m\u001b[0m\n\u001b[0m\u001b[1;32m      9\u001b[0m \u001b[0;31m#             print(vector)\u001b[0m\u001b[0;34m\u001b[0m\u001b[0;34m\u001b[0m\u001b[0;34m\u001b[0m\u001b[0m\n\u001b[1;32m     10\u001b[0m \u001b[0;34m\u001b[0m\u001b[0m\n",
      "\u001b[0;32m/Library/Frameworks/Python.framework/Versions/3.8/lib/python3.8/site-packages/pandas/core/frame.py\u001b[0m in \u001b[0;36mappend\u001b[0;34m(self, other, ignore_index, verify_integrity, sort)\u001b[0m\n\u001b[1;32m   7944\u001b[0m                 \u001b[0;32mif\u001b[0m \u001b[0;32mnot\u001b[0m \u001b[0mignore_index\u001b[0m\u001b[0;34m:\u001b[0m\u001b[0;34m\u001b[0m\u001b[0;34m\u001b[0m\u001b[0m\n\u001b[1;32m   7945\u001b[0m                     \u001b[0;32mraise\u001b[0m \u001b[0mTypeError\u001b[0m\u001b[0;34m(\u001b[0m\u001b[0;34m\"Can only append a dict if ignore_index=True\"\u001b[0m\u001b[0;34m)\u001b[0m\u001b[0;34m\u001b[0m\u001b[0;34m\u001b[0m\u001b[0m\n\u001b[0;32m-> 7946\u001b[0;31m                 \u001b[0mother\u001b[0m \u001b[0;34m=\u001b[0m \u001b[0mSeries\u001b[0m\u001b[0;34m(\u001b[0m\u001b[0mother\u001b[0m\u001b[0;34m)\u001b[0m\u001b[0;34m\u001b[0m\u001b[0;34m\u001b[0m\u001b[0m\n\u001b[0m\u001b[1;32m   7947\u001b[0m             \u001b[0;32mif\u001b[0m \u001b[0mother\u001b[0m\u001b[0;34m.\u001b[0m\u001b[0mname\u001b[0m \u001b[0;32mis\u001b[0m \u001b[0;32mNone\u001b[0m \u001b[0;32mand\u001b[0m \u001b[0;32mnot\u001b[0m \u001b[0mignore_index\u001b[0m\u001b[0;34m:\u001b[0m\u001b[0;34m\u001b[0m\u001b[0;34m\u001b[0m\u001b[0m\n\u001b[1;32m   7948\u001b[0m                 raise TypeError(\n",
      "\u001b[0;32m/Library/Frameworks/Python.framework/Versions/3.8/lib/python3.8/site-packages/pandas/core/series.py\u001b[0m in \u001b[0;36m__init__\u001b[0;34m(self, data, index, dtype, name, copy, fastpath)\u001b[0m\n\u001b[1;32m    316\u001b[0m                 \u001b[0mdata\u001b[0m \u001b[0;34m=\u001b[0m \u001b[0mdata\u001b[0m\u001b[0;34m.\u001b[0m\u001b[0m_mgr\u001b[0m\u001b[0;34m\u001b[0m\u001b[0;34m\u001b[0m\u001b[0m\n\u001b[1;32m    317\u001b[0m             \u001b[0;32melif\u001b[0m \u001b[0mis_dict_like\u001b[0m\u001b[0;34m(\u001b[0m\u001b[0mdata\u001b[0m\u001b[0;34m)\u001b[0m\u001b[0;34m:\u001b[0m\u001b[0;34m\u001b[0m\u001b[0;34m\u001b[0m\u001b[0m\n\u001b[0;32m--> 318\u001b[0;31m                 \u001b[0mdata\u001b[0m\u001b[0;34m,\u001b[0m \u001b[0mindex\u001b[0m \u001b[0;34m=\u001b[0m \u001b[0mself\u001b[0m\u001b[0;34m.\u001b[0m\u001b[0m_init_dict\u001b[0m\u001b[0;34m(\u001b[0m\u001b[0mdata\u001b[0m\u001b[0;34m,\u001b[0m \u001b[0mindex\u001b[0m\u001b[0;34m,\u001b[0m \u001b[0mdtype\u001b[0m\u001b[0;34m)\u001b[0m\u001b[0;34m\u001b[0m\u001b[0;34m\u001b[0m\u001b[0m\n\u001b[0m\u001b[1;32m    319\u001b[0m                 \u001b[0mdtype\u001b[0m \u001b[0;34m=\u001b[0m \u001b[0;32mNone\u001b[0m\u001b[0;34m\u001b[0m\u001b[0;34m\u001b[0m\u001b[0m\n\u001b[1;32m    320\u001b[0m                 \u001b[0mcopy\u001b[0m \u001b[0;34m=\u001b[0m \u001b[0;32mFalse\u001b[0m\u001b[0;34m\u001b[0m\u001b[0;34m\u001b[0m\u001b[0m\n",
      "\u001b[0;32m/Library/Frameworks/Python.framework/Versions/3.8/lib/python3.8/site-packages/pandas/core/series.py\u001b[0m in \u001b[0;36m_init_dict\u001b[0;34m(self, data, index, dtype)\u001b[0m\n\u001b[1;32m    409\u001b[0m \u001b[0;34m\u001b[0m\u001b[0m\n\u001b[1;32m    410\u001b[0m         \u001b[0;31m# TODO: passing np.float64 to not break anything yet. See GH-17261\u001b[0m\u001b[0;34m\u001b[0m\u001b[0;34m\u001b[0m\u001b[0;34m\u001b[0m\u001b[0m\n\u001b[0;32m--> 411\u001b[0;31m         s = create_series_with_explicit_dtype(\n\u001b[0m\u001b[1;32m    412\u001b[0m             \u001b[0mvalues\u001b[0m\u001b[0;34m,\u001b[0m \u001b[0mindex\u001b[0m\u001b[0;34m=\u001b[0m\u001b[0mkeys\u001b[0m\u001b[0;34m,\u001b[0m \u001b[0mdtype\u001b[0m\u001b[0;34m=\u001b[0m\u001b[0mdtype\u001b[0m\u001b[0;34m,\u001b[0m \u001b[0mdtype_if_empty\u001b[0m\u001b[0;34m=\u001b[0m\u001b[0mnp\u001b[0m\u001b[0;34m.\u001b[0m\u001b[0mfloat64\u001b[0m\u001b[0;34m\u001b[0m\u001b[0;34m\u001b[0m\u001b[0m\n\u001b[1;32m    413\u001b[0m         )\n",
      "\u001b[0;32m/Library/Frameworks/Python.framework/Versions/3.8/lib/python3.8/site-packages/pandas/core/construction.py\u001b[0m in \u001b[0;36mcreate_series_with_explicit_dtype\u001b[0;34m(data, index, dtype, name, copy, fastpath, dtype_if_empty)\u001b[0m\n\u001b[1;32m    664\u001b[0m     \u001b[0;32mif\u001b[0m \u001b[0mis_empty_data\u001b[0m\u001b[0;34m(\u001b[0m\u001b[0mdata\u001b[0m\u001b[0;34m)\u001b[0m \u001b[0;32mand\u001b[0m \u001b[0mdtype\u001b[0m \u001b[0;32mis\u001b[0m \u001b[0;32mNone\u001b[0m\u001b[0;34m:\u001b[0m\u001b[0;34m\u001b[0m\u001b[0;34m\u001b[0m\u001b[0m\n\u001b[1;32m    665\u001b[0m         \u001b[0mdtype\u001b[0m \u001b[0;34m=\u001b[0m \u001b[0mdtype_if_empty\u001b[0m\u001b[0;34m\u001b[0m\u001b[0;34m\u001b[0m\u001b[0m\n\u001b[0;32m--> 666\u001b[0;31m     return Series(\n\u001b[0m\u001b[1;32m    667\u001b[0m         \u001b[0mdata\u001b[0m\u001b[0;34m=\u001b[0m\u001b[0mdata\u001b[0m\u001b[0;34m,\u001b[0m \u001b[0mindex\u001b[0m\u001b[0;34m=\u001b[0m\u001b[0mindex\u001b[0m\u001b[0;34m,\u001b[0m \u001b[0mdtype\u001b[0m\u001b[0;34m=\u001b[0m\u001b[0mdtype\u001b[0m\u001b[0;34m,\u001b[0m \u001b[0mname\u001b[0m\u001b[0;34m=\u001b[0m\u001b[0mname\u001b[0m\u001b[0;34m,\u001b[0m \u001b[0mcopy\u001b[0m\u001b[0;34m=\u001b[0m\u001b[0mcopy\u001b[0m\u001b[0;34m,\u001b[0m \u001b[0mfastpath\u001b[0m\u001b[0;34m=\u001b[0m\u001b[0mfastpath\u001b[0m\u001b[0;34m\u001b[0m\u001b[0;34m\u001b[0m\u001b[0m\n\u001b[1;32m    668\u001b[0m     )\n",
      "\u001b[0;32m/Library/Frameworks/Python.framework/Versions/3.8/lib/python3.8/site-packages/pandas/core/series.py\u001b[0m in \u001b[0;36m__init__\u001b[0;34m(self, data, index, dtype, name, copy, fastpath)\u001b[0m\n\u001b[1;32m    279\u001b[0m \u001b[0;34m\u001b[0m\u001b[0m\n\u001b[1;32m    280\u001b[0m             \u001b[0;32mif\u001b[0m \u001b[0mindex\u001b[0m \u001b[0;32mis\u001b[0m \u001b[0;32mnot\u001b[0m \u001b[0;32mNone\u001b[0m\u001b[0;34m:\u001b[0m\u001b[0;34m\u001b[0m\u001b[0;34m\u001b[0m\u001b[0m\n\u001b[0;32m--> 281\u001b[0;31m                 \u001b[0mindex\u001b[0m \u001b[0;34m=\u001b[0m \u001b[0mensure_index\u001b[0m\u001b[0;34m(\u001b[0m\u001b[0mindex\u001b[0m\u001b[0;34m)\u001b[0m\u001b[0;34m\u001b[0m\u001b[0;34m\u001b[0m\u001b[0m\n\u001b[0m\u001b[1;32m    282\u001b[0m \u001b[0;34m\u001b[0m\u001b[0m\n\u001b[1;32m    283\u001b[0m             \u001b[0;32mif\u001b[0m \u001b[0mdata\u001b[0m \u001b[0;32mis\u001b[0m \u001b[0;32mNone\u001b[0m\u001b[0;34m:\u001b[0m\u001b[0;34m\u001b[0m\u001b[0;34m\u001b[0m\u001b[0m\n",
      "\u001b[0;32m/Library/Frameworks/Python.framework/Versions/3.8/lib/python3.8/site-packages/pandas/core/indexes/base.py\u001b[0m in \u001b[0;36mensure_index\u001b[0;34m(index_like, copy)\u001b[0m\n\u001b[1;32m   5915\u001b[0m             \u001b[0mindex_like\u001b[0m \u001b[0;34m=\u001b[0m \u001b[0mcopy_func\u001b[0m\u001b[0;34m(\u001b[0m\u001b[0mindex_like\u001b[0m\u001b[0;34m)\u001b[0m\u001b[0;34m\u001b[0m\u001b[0;34m\u001b[0m\u001b[0m\n\u001b[1;32m   5916\u001b[0m \u001b[0;34m\u001b[0m\u001b[0m\n\u001b[0;32m-> 5917\u001b[0;31m     \u001b[0;32mreturn\u001b[0m \u001b[0mIndex\u001b[0m\u001b[0;34m(\u001b[0m\u001b[0mindex_like\u001b[0m\u001b[0;34m)\u001b[0m\u001b[0;34m\u001b[0m\u001b[0;34m\u001b[0m\u001b[0m\n\u001b[0m\u001b[1;32m   5918\u001b[0m \u001b[0;34m\u001b[0m\u001b[0m\n\u001b[1;32m   5919\u001b[0m \u001b[0;34m\u001b[0m\u001b[0m\n",
      "\u001b[0;32m/Library/Frameworks/Python.framework/Versions/3.8/lib/python3.8/site-packages/pandas/core/indexes/base.py\u001b[0m in \u001b[0;36m__new__\u001b[0;34m(cls, data, dtype, copy, name, tupleize_cols, **kwargs)\u001b[0m\n\u001b[1;32m    389\u001b[0m             \u001b[0;31m# other iterable of some kind\u001b[0m\u001b[0;34m\u001b[0m\u001b[0;34m\u001b[0m\u001b[0;34m\u001b[0m\u001b[0m\n\u001b[1;32m    390\u001b[0m             \u001b[0msubarr\u001b[0m \u001b[0;34m=\u001b[0m \u001b[0mcom\u001b[0m\u001b[0;34m.\u001b[0m\u001b[0masarray_tuplesafe\u001b[0m\u001b[0;34m(\u001b[0m\u001b[0mdata\u001b[0m\u001b[0;34m,\u001b[0m \u001b[0mdtype\u001b[0m\u001b[0;34m=\u001b[0m\u001b[0mobject\u001b[0m\u001b[0;34m)\u001b[0m\u001b[0;34m\u001b[0m\u001b[0;34m\u001b[0m\u001b[0m\n\u001b[0;32m--> 391\u001b[0;31m             \u001b[0;32mreturn\u001b[0m \u001b[0mIndex\u001b[0m\u001b[0;34m(\u001b[0m\u001b[0msubarr\u001b[0m\u001b[0;34m,\u001b[0m \u001b[0mdtype\u001b[0m\u001b[0;34m=\u001b[0m\u001b[0mdtype\u001b[0m\u001b[0;34m,\u001b[0m \u001b[0mcopy\u001b[0m\u001b[0;34m=\u001b[0m\u001b[0mcopy\u001b[0m\u001b[0;34m,\u001b[0m \u001b[0mname\u001b[0m\u001b[0;34m=\u001b[0m\u001b[0mname\u001b[0m\u001b[0;34m,\u001b[0m \u001b[0;34m**\u001b[0m\u001b[0mkwargs\u001b[0m\u001b[0;34m)\u001b[0m\u001b[0;34m\u001b[0m\u001b[0;34m\u001b[0m\u001b[0m\n\u001b[0m\u001b[1;32m    392\u001b[0m \u001b[0;34m\u001b[0m\u001b[0m\n\u001b[1;32m    393\u001b[0m     \"\"\"\n",
      "\u001b[0;32m/Library/Frameworks/Python.framework/Versions/3.8/lib/python3.8/site-packages/pandas/core/indexes/base.py\u001b[0m in \u001b[0;36m__new__\u001b[0;34m(cls, data, dtype, copy, name, tupleize_cols, **kwargs)\u001b[0m\n\u001b[1;32m    356\u001b[0m \u001b[0;34m\u001b[0m\u001b[0m\n\u001b[1;32m    357\u001b[0m             \u001b[0;32mif\u001b[0m \u001b[0mdtype\u001b[0m \u001b[0;32mis\u001b[0m \u001b[0;32mNone\u001b[0m\u001b[0;34m:\u001b[0m\u001b[0;34m\u001b[0m\u001b[0;34m\u001b[0m\u001b[0m\n\u001b[0;32m--> 358\u001b[0;31m                 \u001b[0mnew_data\u001b[0m\u001b[0;34m,\u001b[0m \u001b[0mnew_dtype\u001b[0m \u001b[0;34m=\u001b[0m \u001b[0m_maybe_cast_data_without_dtype\u001b[0m\u001b[0;34m(\u001b[0m\u001b[0msubarr\u001b[0m\u001b[0;34m)\u001b[0m\u001b[0;34m\u001b[0m\u001b[0;34m\u001b[0m\u001b[0m\n\u001b[0m\u001b[1;32m    359\u001b[0m                 \u001b[0;32mif\u001b[0m \u001b[0mnew_dtype\u001b[0m \u001b[0;32mis\u001b[0m \u001b[0;32mnot\u001b[0m \u001b[0;32mNone\u001b[0m\u001b[0;34m:\u001b[0m\u001b[0;34m\u001b[0m\u001b[0;34m\u001b[0m\u001b[0m\n\u001b[1;32m    360\u001b[0m                     return cls(\n",
      "\u001b[0;32m/Library/Frameworks/Python.framework/Versions/3.8/lib/python3.8/site-packages/pandas/core/indexes/base.py\u001b[0m in \u001b[0;36m_maybe_cast_data_without_dtype\u001b[0;34m(subarr)\u001b[0m\n\u001b[1;32m   6036\u001b[0m     \"\"\"\n\u001b[1;32m   6037\u001b[0m     \u001b[0;31m# Runtime import needed bc IntervalArray imports Index\u001b[0m\u001b[0;34m\u001b[0m\u001b[0;34m\u001b[0m\u001b[0;34m\u001b[0m\u001b[0m\n\u001b[0;32m-> 6038\u001b[0;31m     from pandas.core.arrays import (\n\u001b[0m\u001b[1;32m   6039\u001b[0m         \u001b[0mDatetimeArray\u001b[0m\u001b[0;34m,\u001b[0m\u001b[0;34m\u001b[0m\u001b[0;34m\u001b[0m\u001b[0m\n\u001b[1;32m   6040\u001b[0m         \u001b[0mIntervalArray\u001b[0m\u001b[0;34m,\u001b[0m\u001b[0;34m\u001b[0m\u001b[0;34m\u001b[0m\u001b[0m\n",
      "\u001b[0;32m/Library/Frameworks/Python.framework/Versions/3.8/lib/python3.8/importlib/_bootstrap.py\u001b[0m in \u001b[0;36m_handle_fromlist\u001b[0;34m(module, fromlist, import_, recursive)\u001b[0m\n",
      "\u001b[0;31mKeyboardInterrupt\u001b[0m: "
     ]
    }
   ],
   "source": [
    "df3 = pd.DataFrame(columns = [\"Items\",\"vector\"])\n",
    "with open(\"smore_output/rep-train.txt\",'r') as fp:\n",
    "     for line in tqdm(fp.readlines()):\n",
    "            a = line.split()\n",
    "            vectors = a[1:66]\n",
    "            vectors[:] = [float(x) for x in vectors]\n",
    "            \n",
    "            df3 = df3.append({\"Items\":a[0], \"vector\":vectors},ignore_index=True)\n",
    "#             print(vector)\n",
    "            \n",
    "# 整理smore output檔 （item 跟矩陣）\n",
    "# userID應該要改叫item，因為他有新聞編號跟用戶編號"
   ]
  },
  {
   "cell_type": "code",
   "execution_count": 7,
   "metadata": {
    "id": "aA_pl6wem70q",
    "scrolled": true
   },
   "outputs": [],
   "source": [
    "\n",
    "df2 = df2.set_index(\"Items\")\n",
    "df3 = df3.set_index(\"Items\")\n",
    "# 因為做過了"
   ]
  },
  {
   "cell_type": "code",
   "execution_count": null,
   "metadata": {
    "id": "ZsiBJPlLm70q",
    "outputId": "5bbcea9e-b461-4dfe-bcce-31f89aa41d52"
   },
   "outputs": [
    {
     "data": {
      "text/plain": [
       "64"
      ]
     },
     "execution_count": 61,
     "metadata": {
      "tags": []
     },
     "output_type": "execute_result"
    }
   ],
   "source": [
    "df2.head()\n",
    "len(df2.at['U64099','vector'])\n"
   ]
  },
  {
   "cell_type": "code",
   "execution_count": 8,
   "metadata": {
    "id": "HZDWOyt9m70q",
    "outputId": "64975a26-6fe6-4dd2-e179-0b584fe88d15"
   },
   "outputs": [
    {
     "name": "stderr",
     "output_type": "stream",
     "text": [
      "  1%|          | 15292/2370727 [12:03<30:57:55, 21.13it/s]\n"
     ]
    },
    {
     "ename": "KeyboardInterrupt",
     "evalue": "",
     "output_type": "error",
     "traceback": [
      "\u001b[0;31m---------------------------------------------------------------------------\u001b[0m",
      "\u001b[0;31mKeyboardInterrupt\u001b[0m                         Traceback (most recent call last)",
      "\u001b[0;32m<ipython-input-8-4335cf6c09aa>\u001b[0m in \u001b[0;36m<module>\u001b[0;34m\u001b[0m\n\u001b[1;32m      6\u001b[0m \u001b[0;31m#         count+=1\u001b[0m\u001b[0;34m\u001b[0m\u001b[0;34m\u001b[0m\u001b[0;34m\u001b[0m\u001b[0m\n\u001b[1;32m      7\u001b[0m         \u001b[0muser\u001b[0m \u001b[0;34m=\u001b[0m \u001b[0mdf\u001b[0m\u001b[0;34m[\u001b[0m\u001b[0;34m\"User ID\"\u001b[0m\u001b[0;34m]\u001b[0m\u001b[0;34m[\u001b[0m\u001b[0mi\u001b[0m\u001b[0;34m]\u001b[0m\u001b[0;34m\u001b[0m\u001b[0;34m\u001b[0m\u001b[0m\n\u001b[0;32m----> 8\u001b[0;31m         \u001b[0;32mif\u001b[0m \u001b[0muser\u001b[0m \u001b[0;32min\u001b[0m \u001b[0mdf3\u001b[0m\u001b[0;34m.\u001b[0m\u001b[0mindex\u001b[0m\u001b[0;34m.\u001b[0m\u001b[0mvalues\u001b[0m\u001b[0;34m:\u001b[0m\u001b[0;34m\u001b[0m\u001b[0;34m\u001b[0m\u001b[0m\n\u001b[0m\u001b[1;32m      9\u001b[0m \u001b[0;34m\u001b[0m\u001b[0m\n\u001b[1;32m     10\u001b[0m             \u001b[0mvector_of_user\u001b[0m \u001b[0;34m=\u001b[0m \u001b[0mdf3\u001b[0m\u001b[0;34m.\u001b[0m\u001b[0mat\u001b[0m\u001b[0;34m[\u001b[0m\u001b[0muser\u001b[0m\u001b[0;34m,\u001b[0m\u001b[0;34m'vector'\u001b[0m\u001b[0;34m]\u001b[0m\u001b[0;34m\u001b[0m\u001b[0;34m\u001b[0m\u001b[0m\n",
      "\u001b[0;31mKeyboardInterrupt\u001b[0m: "
     ]
    }
   ],
   "source": [
    "with open('prediction_cos.txt', 'w') as f:\n",
    "#     count = 0\n",
    "    \n",
    "    for i in tqdm(df.index):\n",
    "        list_score = []\n",
    "#         count+=1\n",
    "        user = df[\"User ID\"][i]\n",
    "        if user in df3.index.values:\n",
    "          \n",
    "            vector_of_user = df3.at[user,'vector']\n",
    "            a1 = np.array(vector_of_user)\n",
    "            list_imp = df[\"Impressions\"][i].split()\n",
    "            for j in list_imp:\n",
    "                vector_of_imp = [0.00001]*64\n",
    "                try:\n",
    "                    vector_of_imp = df3.at[j,'vector']\n",
    "                except:\n",
    "                    pass\n",
    "                a2 = np.array(vector_of_imp)\n",
    "                cos_sim = np.dot(a1,a2) / (np.linalg.norm(a1) * np.linalg.norm(a2))\n",
    "                list_score.append(cos_sim)\n",
    "            Ranka = sorted(range(1,len(list_score)+1),key = lambda k :list_score[k-1],reverse = True)\n",
    "            adjusted = '[{0}]'.format(','.join(map(str, Ranka)))\n",
    "            row = str(i) + \" \" + str(adjusted)\n",
    "            f.write(row)\n",
    "            f.write('\\n')\n",
    "        elif user in df2.index.values:\n",
    "            vector_of_user = df2.at[user,'vector']\n",
    "            a1 = np.array(vector_of_user)\n",
    "            list_imp = df[\"Impressions\"][i].split()\n",
    "            for j in list_imp:\n",
    "                vector_of_imp = [0.00001]*64\n",
    "                try:\n",
    "                    vector_of_imp = df2.at[j,'vector']\n",
    "                except:\n",
    "                    pass\n",
    "                a2 = np.array(vector_of_imp)\n",
    "                cos_sim = np.dot(a1,a2) / (np.linalg.norm(a1) * np.linalg.norm(a2))\n",
    "                list_score.append(cos_sim)\n",
    "            Ranka = sorted(range(1,len(list_score)+1),key = lambda k :list_score[k-1],reverse = True)\n",
    "            adjusted = '[{0}]'.format(','.join(map(str, Ranka)))\n",
    "            row = str(i) + \" \" + str(adjusted)\n",
    "            f.write(row)\n",
    "            f.write('\\n')\n",
    "#         if count == 100:\n",
    "#             break\n",
    "\n",
    "\n",
    "\n",
    "# cosine similarity\n",
    "        \n",
    "\n",
    "\n",
    "\n",
    "    \n",
    "   \n",
    "        \n",
    "            \n",
    "        "
   ]
  },
  {
   "cell_type": "code",
   "execution_count": null,
   "metadata": {
    "id": "HW6Iq8Ql3Vh2"
   },
   "outputs": [],
   "source": [
    "with open('prediction_dist.txt', 'w') as f:\n",
    "#     count = 0\n",
    "    \n",
    "    for i in tqdm(df.index):\n",
    "        list_score = []\n",
    "#         count+=1\n",
    "        user = df[\"User ID\"][i]\n",
    "        if user in df3.index.values:\n",
    "            vector_of_user = df3.at[user,'vector']\n",
    "            a1 = np.array(vector_of_user)\n",
    "            list_imp = df[\"Impressions\"][i].split()\n",
    "            for j in list_imp:\n",
    "                vector_of_imp = [0.00001]*64\n",
    "                try:\n",
    "                    vector_of_imp = df3.at[j,'vector']\n",
    "                except:\n",
    "                    pass\n",
    "                a2 = np.array(vector_of_imp)\n",
    "                dist = np.linalg.norm(a1-a2)\n",
    "                list_score.append(dist)\n",
    "            Ranka = sorted(range(1,len(list_score)+1),key = lambda k :list_score[k-1],reverse = True)\n",
    "            adjusted = '[{0}]'.format(','.join(map(str, Ranka)))\n",
    "            row = str(i) + \" \" + str(adjusted)\n",
    "            f.write(row)\n",
    "            f.write('\\n')\n",
    "        elif user in df2.index.values:\n",
    "            vector_of_user = df2.at[user,'vector']\n",
    "            a1 = np.array(vector_of_user)\n",
    "            list_imp = df[\"Impressions\"][i].split()\n",
    "            for j in list_imp:\n",
    "                vector_of_imp = [0.00001]*64\n",
    "                try:\n",
    "                    vector_of_imp = df2.at[j,'vector']\n",
    "                except:\n",
    "                    pass\n",
    "                a2 = np.array(vector_of_imp)\n",
    "                dist = np.linalg.norm(a1-a2)\n",
    "                list_score.append(dist)\n",
    "            Ranka = sorted(range(1,len(list_score)+1),key = lambda k :list_score[k-1],reverse = True)\n",
    "            adjusted = '[{0}]'.format(','.join(map(str, Ranka)))\n",
    "            row = str(i) + \" \" + str(adjusted)\n",
    "            f.write(row)\n",
    "            f.write('\\n')\n",
    "#         if count == 100:\n",
    "#             break\n",
    "\n",
    "\n",
    "\n",
    "# euclidean distance"
   ]
  },
  {
   "cell_type": "code",
   "execution_count": null,
   "metadata": {
    "id": "9Go5YZU6m70r"
   },
   "outputs": [],
   "source": [
    "# 不能只跑一部分，impression有的東西 history不一定有....\n"
   ]
  }
 ],
 "metadata": {
  "accelerator": "GPU",
  "colab": {
   "name": "data.ipynb",
   "provenance": []
  },
  "kernelspec": {
   "display_name": "Python 3",
   "language": "python",
   "name": "python3"
  },
  "language_info": {
   "codemirror_mode": {
    "name": "ipython",
    "version": 3
   },
   "file_extension": ".py",
   "mimetype": "text/x-python",
   "name": "python",
   "nbconvert_exporter": "python",
   "pygments_lexer": "ipython3",
   "version": "3.8.6"
  }
 },
 "nbformat": 4,
 "nbformat_minor": 1
}
